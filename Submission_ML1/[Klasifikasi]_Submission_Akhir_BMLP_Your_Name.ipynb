{
  "cells": [
    {
      "cell_type": "markdown",
      "metadata": {
        "id": "fKADPWcFKlj3"
      },
      "source": [
        "# **1. Import Library**"
      ]
    },
    {
      "cell_type": "markdown",
      "metadata": {
        "id": "LgA3ERnVn84N"
      },
      "source": [
        "Pada tahap ini, Anda perlu mengimpor beberapa pustaka (library) Python yang dibutuhkan untuk analisis data dan pembangunan model machine learning."
      ]
    },
    {
      "cell_type": "code",
      "execution_count": 14,
      "metadata": {
        "id": "BlmvjLY9M4Yj"
      },
      "outputs": [],
      "source": [
        "import pandas as pd\n",
        "import matplotlib.pyplot as plt\n",
        "import seaborn as sns\n",
        "\n",
        "from sklearn.preprocessing import StandardScaler, MinMaxScaler, LabelEncoder\n",
        "from sklearn.cluster import KMeans\n",
        "from sklearn.decomposition import PCA\n",
        "from sklearn.metrics import silhouette_score, accuracy_score\n",
        "from sklearn.model_selection import train_test_split\n",
        "from sklearn.svm import SVC\n"
      ]
    },
    {
      "cell_type": "markdown",
      "metadata": {
        "id": "f3YIEnAFKrKL"
      },
      "source": [
        "# **2. Memuat Dataset dari Hasil Clustering**"
      ]
    },
    {
      "cell_type": "markdown",
      "metadata": {
        "id": "Ey3ItwTen_7E"
      },
      "source": [
        "Memuat dataset hasil clustering dari file CSV ke dalam variabel DataFrame."
      ]
    },
    {
      "cell_type": "code",
      "execution_count": 15,
      "metadata": {
        "id": "GHCGNTyrM5fS"
      },
      "outputs": [],
      "source": [
        "data = pd.read_csv('hasil_cluster.csv')\n",
        "df = pd.DataFrame(data)  # Pastikan data sudah dalam bentuk DataFrame\n"
      ]
    },
    {
      "cell_type": "code",
      "execution_count": 16,
      "metadata": {},
      "outputs": [
        {
          "data": {
            "text/html": [
              "<div>\n",
              "<style scoped>\n",
              "    .dataframe tbody tr th:only-of-type {\n",
              "        vertical-align: middle;\n",
              "    }\n",
              "\n",
              "    .dataframe tbody tr th {\n",
              "        vertical-align: top;\n",
              "    }\n",
              "\n",
              "    .dataframe thead th {\n",
              "        text-align: right;\n",
              "    }\n",
              "</style>\n",
              "<table border=\"1\" class=\"dataframe\">\n",
              "  <thead>\n",
              "    <tr style=\"text-align: right;\">\n",
              "      <th></th>\n",
              "      <th>User_ID</th>\n",
              "      <th>Age</th>\n",
              "      <th>Gender</th>\n",
              "      <th>Social_Media_Hours</th>\n",
              "      <th>Exercise_Hours</th>\n",
              "      <th>Sleep_Hours</th>\n",
              "      <th>Screen_Time_Hours</th>\n",
              "      <th>Survey_Stress_Score</th>\n",
              "      <th>Wearable_Stress_Score</th>\n",
              "      <th>Support_System</th>\n",
              "      <th>Academic_Performance</th>\n",
              "    </tr>\n",
              "  </thead>\n",
              "  <tbody>\n",
              "    <tr>\n",
              "      <th>0</th>\n",
              "      <td>1</td>\n",
              "      <td>16</td>\n",
              "      <td>0</td>\n",
              "      <td>9.654486</td>\n",
              "      <td>2.458001</td>\n",
              "      <td>5.198926</td>\n",
              "      <td>8.158189</td>\n",
              "      <td>3</td>\n",
              "      <td>0.288962</td>\n",
              "      <td>2</td>\n",
              "      <td>1</td>\n",
              "    </tr>\n",
              "    <tr>\n",
              "      <th>1</th>\n",
              "      <td>2</td>\n",
              "      <td>17</td>\n",
              "      <td>1</td>\n",
              "      <td>9.158143</td>\n",
              "      <td>0.392095</td>\n",
              "      <td>8.866097</td>\n",
              "      <td>5.151993</td>\n",
              "      <td>5</td>\n",
              "      <td>0.409446</td>\n",
              "      <td>2</td>\n",
              "      <td>2</td>\n",
              "    </tr>\n",
              "    <tr>\n",
              "      <th>2</th>\n",
              "      <td>3</td>\n",
              "      <td>15</td>\n",
              "      <td>1</td>\n",
              "      <td>5.028755</td>\n",
              "      <td>0.520119</td>\n",
              "      <td>4.943095</td>\n",
              "      <td>9.209325</td>\n",
              "      <td>2</td>\n",
              "      <td>0.423837</td>\n",
              "      <td>2</td>\n",
              "      <td>3</td>\n",
              "    </tr>\n",
              "    <tr>\n",
              "      <th>3</th>\n",
              "      <td>4</td>\n",
              "      <td>17</td>\n",
              "      <td>0</td>\n",
              "      <td>7.951103</td>\n",
              "      <td>1.022630</td>\n",
              "      <td>5.262773</td>\n",
              "      <td>9.823658</td>\n",
              "      <td>5</td>\n",
              "      <td>0.666021</td>\n",
              "      <td>2</td>\n",
              "      <td>0</td>\n",
              "    </tr>\n",
              "    <tr>\n",
              "      <th>4</th>\n",
              "      <td>5</td>\n",
              "      <td>17</td>\n",
              "      <td>0</td>\n",
              "      <td>1.357459</td>\n",
              "      <td>1.225462</td>\n",
              "      <td>6.196080</td>\n",
              "      <td>11.338990</td>\n",
              "      <td>5</td>\n",
              "      <td>0.928060</td>\n",
              "      <td>0</td>\n",
              "      <td>3</td>\n",
              "    </tr>\n",
              "    <tr>\n",
              "      <th>...</th>\n",
              "      <td>...</td>\n",
              "      <td>...</td>\n",
              "      <td>...</td>\n",
              "      <td>...</td>\n",
              "      <td>...</td>\n",
              "      <td>...</td>\n",
              "      <td>...</td>\n",
              "      <td>...</td>\n",
              "      <td>...</td>\n",
              "      <td>...</td>\n",
              "      <td>...</td>\n",
              "    </tr>\n",
              "    <tr>\n",
              "      <th>4995</th>\n",
              "      <td>4996</td>\n",
              "      <td>14</td>\n",
              "      <td>1</td>\n",
              "      <td>0.088148</td>\n",
              "      <td>1.003339</td>\n",
              "      <td>8.684888</td>\n",
              "      <td>5.922202</td>\n",
              "      <td>1</td>\n",
              "      <td>0.750205</td>\n",
              "      <td>2</td>\n",
              "      <td>0</td>\n",
              "    </tr>\n",
              "    <tr>\n",
              "      <th>4996</th>\n",
              "      <td>4997</td>\n",
              "      <td>15</td>\n",
              "      <td>0</td>\n",
              "      <td>7.161276</td>\n",
              "      <td>1.024644</td>\n",
              "      <td>5.312684</td>\n",
              "      <td>10.224924</td>\n",
              "      <td>4</td>\n",
              "      <td>0.427209</td>\n",
              "      <td>2</td>\n",
              "      <td>1</td>\n",
              "    </tr>\n",
              "    <tr>\n",
              "      <th>4997</th>\n",
              "      <td>4998</td>\n",
              "      <td>14</td>\n",
              "      <td>1</td>\n",
              "      <td>3.444383</td>\n",
              "      <td>2.877972</td>\n",
              "      <td>9.227726</td>\n",
              "      <td>4.059322</td>\n",
              "      <td>4</td>\n",
              "      <td>0.002893</td>\n",
              "      <td>0</td>\n",
              "      <td>2</td>\n",
              "    </tr>\n",
              "    <tr>\n",
              "      <th>4998</th>\n",
              "      <td>4999</td>\n",
              "      <td>18</td>\n",
              "      <td>0</td>\n",
              "      <td>7.866525</td>\n",
              "      <td>2.395839</td>\n",
              "      <td>4.317831</td>\n",
              "      <td>10.657076</td>\n",
              "      <td>2</td>\n",
              "      <td>0.612063</td>\n",
              "      <td>0</td>\n",
              "      <td>0</td>\n",
              "    </tr>\n",
              "    <tr>\n",
              "      <th>4999</th>\n",
              "      <td>5000</td>\n",
              "      <td>18</td>\n",
              "      <td>1</td>\n",
              "      <td>3.389362</td>\n",
              "      <td>1.375646</td>\n",
              "      <td>8.693171</td>\n",
              "      <td>6.977589</td>\n",
              "      <td>5</td>\n",
              "      <td>0.952662</td>\n",
              "      <td>2</td>\n",
              "      <td>1</td>\n",
              "    </tr>\n",
              "  </tbody>\n",
              "</table>\n",
              "<p>5000 rows × 11 columns</p>\n",
              "</div>"
            ],
            "text/plain": [
              "      User_ID  Age  Gender  Social_Media_Hours  Exercise_Hours  Sleep_Hours  \\\n",
              "0           1   16       0            9.654486        2.458001     5.198926   \n",
              "1           2   17       1            9.158143        0.392095     8.866097   \n",
              "2           3   15       1            5.028755        0.520119     4.943095   \n",
              "3           4   17       0            7.951103        1.022630     5.262773   \n",
              "4           5   17       0            1.357459        1.225462     6.196080   \n",
              "...       ...  ...     ...                 ...             ...          ...   \n",
              "4995     4996   14       1            0.088148        1.003339     8.684888   \n",
              "4996     4997   15       0            7.161276        1.024644     5.312684   \n",
              "4997     4998   14       1            3.444383        2.877972     9.227726   \n",
              "4998     4999   18       0            7.866525        2.395839     4.317831   \n",
              "4999     5000   18       1            3.389362        1.375646     8.693171   \n",
              "\n",
              "      Screen_Time_Hours  Survey_Stress_Score  Wearable_Stress_Score  \\\n",
              "0              8.158189                    3               0.288962   \n",
              "1              5.151993                    5               0.409446   \n",
              "2              9.209325                    2               0.423837   \n",
              "3              9.823658                    5               0.666021   \n",
              "4             11.338990                    5               0.928060   \n",
              "...                 ...                  ...                    ...   \n",
              "4995           5.922202                    1               0.750205   \n",
              "4996          10.224924                    4               0.427209   \n",
              "4997           4.059322                    4               0.002893   \n",
              "4998          10.657076                    2               0.612063   \n",
              "4999           6.977589                    5               0.952662   \n",
              "\n",
              "      Support_System  Academic_Performance  \n",
              "0                  2                     1  \n",
              "1                  2                     2  \n",
              "2                  2                     3  \n",
              "3                  2                     0  \n",
              "4                  0                     3  \n",
              "...              ...                   ...  \n",
              "4995               2                     0  \n",
              "4996               2                     1  \n",
              "4997               0                     2  \n",
              "4998               0                     0  \n",
              "4999               2                     1  \n",
              "\n",
              "[5000 rows x 11 columns]"
            ]
          },
          "execution_count": 16,
          "metadata": {},
          "output_type": "execute_result"
        }
      ],
      "source": [
        "data"
      ]
    },
    {
      "cell_type": "markdown",
      "metadata": {},
      "source": [
        "### standarisasi dan normalisasi data"
      ]
    },
    {
      "cell_type": "code",
      "execution_count": 29,
      "metadata": {},
      "outputs": [
        {
          "data": {
            "text/html": [
              "<div>\n",
              "<style scoped>\n",
              "    .dataframe tbody tr th:only-of-type {\n",
              "        vertical-align: middle;\n",
              "    }\n",
              "\n",
              "    .dataframe tbody tr th {\n",
              "        vertical-align: top;\n",
              "    }\n",
              "\n",
              "    .dataframe thead th {\n",
              "        text-align: right;\n",
              "    }\n",
              "</style>\n",
              "<table border=\"1\" class=\"dataframe\">\n",
              "  <thead>\n",
              "    <tr style=\"text-align: right;\">\n",
              "      <th></th>\n",
              "      <th>User_ID</th>\n",
              "      <th>Age</th>\n",
              "      <th>Gender</th>\n",
              "      <th>Social_Media_Hours</th>\n",
              "      <th>Exercise_Hours</th>\n",
              "      <th>Sleep_Hours</th>\n",
              "      <th>Screen_Time_Hours</th>\n",
              "      <th>Survey_Stress_Score</th>\n",
              "      <th>Wearable_Stress_Score</th>\n",
              "      <th>Support_System</th>\n",
              "      <th>Academic_Performance</th>\n",
              "    </tr>\n",
              "  </thead>\n",
              "  <tbody>\n",
              "    <tr>\n",
              "      <th>0</th>\n",
              "      <td>1</td>\n",
              "      <td>16</td>\n",
              "      <td>0</td>\n",
              "      <td>1.654869</td>\n",
              "      <td>1.098356</td>\n",
              "      <td>-1.079212</td>\n",
              "      <td>0.377898</td>\n",
              "      <td>3</td>\n",
              "      <td>-0.716698</td>\n",
              "      <td>2</td>\n",
              "      <td>1</td>\n",
              "    </tr>\n",
              "    <tr>\n",
              "      <th>1</th>\n",
              "      <td>2</td>\n",
              "      <td>17</td>\n",
              "      <td>1</td>\n",
              "      <td>1.480936</td>\n",
              "      <td>-1.265659</td>\n",
              "      <td>1.050340</td>\n",
              "      <td>-0.664759</td>\n",
              "      <td>5</td>\n",
              "      <td>-0.300863</td>\n",
              "      <td>2</td>\n",
              "      <td>2</td>\n",
              "    </tr>\n",
              "    <tr>\n",
              "      <th>2</th>\n",
              "      <td>3</td>\n",
              "      <td>15</td>\n",
              "      <td>1</td>\n",
              "      <td>0.033878</td>\n",
              "      <td>-1.119161</td>\n",
              "      <td>-1.227774</td>\n",
              "      <td>0.742471</td>\n",
              "      <td>2</td>\n",
              "      <td>-0.251193</td>\n",
              "      <td>2</td>\n",
              "      <td>3</td>\n",
              "    </tr>\n",
              "    <tr>\n",
              "      <th>3</th>\n",
              "      <td>4</td>\n",
              "      <td>17</td>\n",
              "      <td>0</td>\n",
              "      <td>1.057954</td>\n",
              "      <td>-0.544139</td>\n",
              "      <td>-1.042135</td>\n",
              "      <td>0.955543</td>\n",
              "      <td>5</td>\n",
              "      <td>0.584673</td>\n",
              "      <td>2</td>\n",
              "      <td>0</td>\n",
              "    </tr>\n",
              "    <tr>\n",
              "      <th>4</th>\n",
              "      <td>5</td>\n",
              "      <td>17</td>\n",
              "      <td>0</td>\n",
              "      <td>-1.252652</td>\n",
              "      <td>-0.312038</td>\n",
              "      <td>-0.500157</td>\n",
              "      <td>1.481115</td>\n",
              "      <td>5</td>\n",
              "      <td>1.489070</td>\n",
              "      <td>0</td>\n",
              "      <td>3</td>\n",
              "    </tr>\n",
              "    <tr>\n",
              "      <th>...</th>\n",
              "      <td>...</td>\n",
              "      <td>...</td>\n",
              "      <td>...</td>\n",
              "      <td>...</td>\n",
              "      <td>...</td>\n",
              "      <td>...</td>\n",
              "      <td>...</td>\n",
              "      <td>...</td>\n",
              "      <td>...</td>\n",
              "      <td>...</td>\n",
              "      <td>...</td>\n",
              "    </tr>\n",
              "    <tr>\n",
              "      <th>4995</th>\n",
              "      <td>4996</td>\n",
              "      <td>14</td>\n",
              "      <td>1</td>\n",
              "      <td>-1.697456</td>\n",
              "      <td>-0.566213</td>\n",
              "      <td>0.945111</td>\n",
              "      <td>-0.397623</td>\n",
              "      <td>1</td>\n",
              "      <td>0.875225</td>\n",
              "      <td>2</td>\n",
              "      <td>0</td>\n",
              "    </tr>\n",
              "    <tr>\n",
              "      <th>4996</th>\n",
              "      <td>4997</td>\n",
              "      <td>15</td>\n",
              "      <td>0</td>\n",
              "      <td>0.781176</td>\n",
              "      <td>-0.541833</td>\n",
              "      <td>-1.013151</td>\n",
              "      <td>1.094717</td>\n",
              "      <td>4</td>\n",
              "      <td>-0.239558</td>\n",
              "      <td>2</td>\n",
              "      <td>1</td>\n",
              "    </tr>\n",
              "    <tr>\n",
              "      <th>4997</th>\n",
              "      <td>4998</td>\n",
              "      <td>14</td>\n",
              "      <td>1</td>\n",
              "      <td>-0.521333</td>\n",
              "      <td>1.578928</td>\n",
              "      <td>1.260341</td>\n",
              "      <td>-1.043737</td>\n",
              "      <td>4</td>\n",
              "      <td>-1.704030</td>\n",
              "      <td>0</td>\n",
              "      <td>2</td>\n",
              "    </tr>\n",
              "    <tr>\n",
              "      <th>4998</th>\n",
              "      <td>4999</td>\n",
              "      <td>18</td>\n",
              "      <td>0</td>\n",
              "      <td>1.028315</td>\n",
              "      <td>1.027224</td>\n",
              "      <td>-1.590870</td>\n",
              "      <td>1.244603</td>\n",
              "      <td>2</td>\n",
              "      <td>0.398445</td>\n",
              "      <td>0</td>\n",
              "      <td>0</td>\n",
              "    </tr>\n",
              "    <tr>\n",
              "      <th>4999</th>\n",
              "      <td>5000</td>\n",
              "      <td>18</td>\n",
              "      <td>1</td>\n",
              "      <td>-0.540614</td>\n",
              "      <td>-0.140182</td>\n",
              "      <td>0.949921</td>\n",
              "      <td>-0.031576</td>\n",
              "      <td>5</td>\n",
              "      <td>1.573981</td>\n",
              "      <td>2</td>\n",
              "      <td>1</td>\n",
              "    </tr>\n",
              "  </tbody>\n",
              "</table>\n",
              "<p>5000 rows × 11 columns</p>\n",
              "</div>"
            ],
            "text/plain": [
              "      User_ID  Age  Gender  Social_Media_Hours  Exercise_Hours  Sleep_Hours  \\\n",
              "0           1   16       0            1.654869        1.098356    -1.079212   \n",
              "1           2   17       1            1.480936       -1.265659     1.050340   \n",
              "2           3   15       1            0.033878       -1.119161    -1.227774   \n",
              "3           4   17       0            1.057954       -0.544139    -1.042135   \n",
              "4           5   17       0           -1.252652       -0.312038    -0.500157   \n",
              "...       ...  ...     ...                 ...             ...          ...   \n",
              "4995     4996   14       1           -1.697456       -0.566213     0.945111   \n",
              "4996     4997   15       0            0.781176       -0.541833    -1.013151   \n",
              "4997     4998   14       1           -0.521333        1.578928     1.260341   \n",
              "4998     4999   18       0            1.028315        1.027224    -1.590870   \n",
              "4999     5000   18       1           -0.540614       -0.140182     0.949921   \n",
              "\n",
              "      Screen_Time_Hours  Survey_Stress_Score  Wearable_Stress_Score  \\\n",
              "0              0.377898                    3              -0.716698   \n",
              "1             -0.664759                    5              -0.300863   \n",
              "2              0.742471                    2              -0.251193   \n",
              "3              0.955543                    5               0.584673   \n",
              "4              1.481115                    5               1.489070   \n",
              "...                 ...                  ...                    ...   \n",
              "4995          -0.397623                    1               0.875225   \n",
              "4996           1.094717                    4              -0.239558   \n",
              "4997          -1.043737                    4              -1.704030   \n",
              "4998           1.244603                    2               0.398445   \n",
              "4999          -0.031576                    5               1.573981   \n",
              "\n",
              "      Support_System  Academic_Performance  \n",
              "0                  2                     1  \n",
              "1                  2                     2  \n",
              "2                  2                     3  \n",
              "3                  2                     0  \n",
              "4                  0                     3  \n",
              "...              ...                   ...  \n",
              "4995               2                     0  \n",
              "4996               2                     1  \n",
              "4997               0                     2  \n",
              "4998               0                     0  \n",
              "4999               2                     1  \n",
              "\n",
              "[5000 rows x 11 columns]"
            ]
          },
          "execution_count": 29,
          "metadata": {},
          "output_type": "execute_result"
        }
      ],
      "source": [
        "# Identifikasi kolom numerik (kecuali User_ID)\n",
        "numerical_cols = [ \"Social_Media_Hours\", \"Exercise_Hours\", \"Sleep_Hours\", \n",
        "                  \"Screen_Time_Hours\", \"Wearable_Stress_Score\"]\n",
        "\n",
        "# Normalisasi dengan MinMaxScaler\n",
        "minmax_scaler = MinMaxScaler()\n",
        "df_normalized = data.copy()\n",
        "df_normalized[numerical_cols] = minmax_scaler.fit_transform(df_normalized[numerical_cols])\n",
        "\n",
        "scaler = StandardScaler()\n",
        "df_normalized[numerical_cols] = scaler.fit_transform(df_normalized[numerical_cols])\n",
        "\n",
        "df_normalized"
      ]
    },
    {
      "cell_type": "code",
      "execution_count": 30,
      "metadata": {},
      "outputs": [
        {
          "data": {
            "text/html": [
              "<div>\n",
              "<style scoped>\n",
              "    .dataframe tbody tr th:only-of-type {\n",
              "        vertical-align: middle;\n",
              "    }\n",
              "\n",
              "    .dataframe tbody tr th {\n",
              "        vertical-align: top;\n",
              "    }\n",
              "\n",
              "    .dataframe thead th {\n",
              "        text-align: right;\n",
              "    }\n",
              "</style>\n",
              "<table border=\"1\" class=\"dataframe\">\n",
              "  <thead>\n",
              "    <tr style=\"text-align: right;\">\n",
              "      <th></th>\n",
              "      <th>User_ID</th>\n",
              "      <th>Age</th>\n",
              "      <th>Gender</th>\n",
              "      <th>Social_Media_Hours</th>\n",
              "      <th>Exercise_Hours</th>\n",
              "      <th>Sleep_Hours</th>\n",
              "      <th>Screen_Time_Hours</th>\n",
              "      <th>Survey_Stress_Score</th>\n",
              "      <th>Wearable_Stress_Score</th>\n",
              "      <th>Support_System</th>\n",
              "      <th>Academic_Performance</th>\n",
              "    </tr>\n",
              "  </thead>\n",
              "  <tbody>\n",
              "    <tr>\n",
              "      <th>count</th>\n",
              "      <td>5000.000000</td>\n",
              "      <td>5000.000000</td>\n",
              "      <td>5000.000000</td>\n",
              "      <td>5.000000e+03</td>\n",
              "      <td>5.000000e+03</td>\n",
              "      <td>5.000000e+03</td>\n",
              "      <td>5.000000e+03</td>\n",
              "      <td>5000.000000</td>\n",
              "      <td>5.000000e+03</td>\n",
              "      <td>5000.000000</td>\n",
              "      <td>5000.000000</td>\n",
              "    </tr>\n",
              "    <tr>\n",
              "      <th>mean</th>\n",
              "      <td>2500.500000</td>\n",
              "      <td>15.493200</td>\n",
              "      <td>0.494400</td>\n",
              "      <td>1.591616e-16</td>\n",
              "      <td>3.621992e-16</td>\n",
              "      <td>9.947598e-18</td>\n",
              "      <td>-9.379164e-17</td>\n",
              "      <td>3.015800</td>\n",
              "      <td>8.597567e-17</td>\n",
              "      <td>1.003800</td>\n",
              "      <td>1.524600</td>\n",
              "    </tr>\n",
              "    <tr>\n",
              "      <th>std</th>\n",
              "      <td>1443.520003</td>\n",
              "      <td>1.715151</td>\n",
              "      <td>0.500019</td>\n",
              "      <td>1.000100e+00</td>\n",
              "      <td>1.000100e+00</td>\n",
              "      <td>1.000100e+00</td>\n",
              "      <td>1.000100e+00</td>\n",
              "      <td>1.414762</td>\n",
              "      <td>1.000100e+00</td>\n",
              "      <td>0.821414</td>\n",
              "      <td>1.122696</td>\n",
              "    </tr>\n",
              "    <tr>\n",
              "      <th>min</th>\n",
              "      <td>1.000000</td>\n",
              "      <td>13.000000</td>\n",
              "      <td>0.000000</td>\n",
              "      <td>-1.728161e+00</td>\n",
              "      <td>-1.713792e+00</td>\n",
              "      <td>-1.774556e+00</td>\n",
              "      <td>-1.757817e+00</td>\n",
              "      <td>1.000000</td>\n",
              "      <td>-1.713663e+00</td>\n",
              "      <td>0.000000</td>\n",
              "      <td>0.000000</td>\n",
              "    </tr>\n",
              "    <tr>\n",
              "      <th>25%</th>\n",
              "      <td>1250.750000</td>\n",
              "      <td>14.000000</td>\n",
              "      <td>0.000000</td>\n",
              "      <td>-8.616812e-01</td>\n",
              "      <td>-8.739244e-01</td>\n",
              "      <td>-8.394315e-01</td>\n",
              "      <td>-8.651143e-01</td>\n",
              "      <td>2.000000</td>\n",
              "      <td>-8.697591e-01</td>\n",
              "      <td>0.000000</td>\n",
              "      <td>1.000000</td>\n",
              "    </tr>\n",
              "    <tr>\n",
              "      <th>50%</th>\n",
              "      <td>2500.500000</td>\n",
              "      <td>16.000000</td>\n",
              "      <td>0.000000</td>\n",
              "      <td>-1.188112e-02</td>\n",
              "      <td>-1.684310e-02</td>\n",
              "      <td>6.680450e-03</td>\n",
              "      <td>1.746281e-02</td>\n",
              "      <td>3.000000</td>\n",
              "      <td>1.306696e-02</td>\n",
              "      <td>1.000000</td>\n",
              "      <td>2.000000</td>\n",
              "    </tr>\n",
              "    <tr>\n",
              "      <th>75%</th>\n",
              "      <td>3750.250000</td>\n",
              "      <td>17.000000</td>\n",
              "      <td>1.000000</td>\n",
              "      <td>8.540365e-01</td>\n",
              "      <td>8.901944e-01</td>\n",
              "      <td>8.490174e-01</td>\n",
              "      <td>8.524209e-01</td>\n",
              "      <td>4.000000</td>\n",
              "      <td>8.742702e-01</td>\n",
              "      <td>2.000000</td>\n",
              "      <td>3.000000</td>\n",
              "    </tr>\n",
              "    <tr>\n",
              "      <th>max</th>\n",
              "      <td>5000.000000</td>\n",
              "      <td>18.000000</td>\n",
              "      <td>1.000000</td>\n",
              "      <td>1.774214e+00</td>\n",
              "      <td>1.718307e+00</td>\n",
              "      <td>1.708358e+00</td>\n",
              "      <td>1.710034e+00</td>\n",
              "      <td>5.000000</td>\n",
              "      <td>1.736714e+00</td>\n",
              "      <td>2.000000</td>\n",
              "      <td>3.000000</td>\n",
              "    </tr>\n",
              "  </tbody>\n",
              "</table>\n",
              "</div>"
            ],
            "text/plain": [
              "           User_ID          Age       Gender  Social_Media_Hours  \\\n",
              "count  5000.000000  5000.000000  5000.000000        5.000000e+03   \n",
              "mean   2500.500000    15.493200     0.494400        1.591616e-16   \n",
              "std    1443.520003     1.715151     0.500019        1.000100e+00   \n",
              "min       1.000000    13.000000     0.000000       -1.728161e+00   \n",
              "25%    1250.750000    14.000000     0.000000       -8.616812e-01   \n",
              "50%    2500.500000    16.000000     0.000000       -1.188112e-02   \n",
              "75%    3750.250000    17.000000     1.000000        8.540365e-01   \n",
              "max    5000.000000    18.000000     1.000000        1.774214e+00   \n",
              "\n",
              "       Exercise_Hours   Sleep_Hours  Screen_Time_Hours  Survey_Stress_Score  \\\n",
              "count    5.000000e+03  5.000000e+03       5.000000e+03          5000.000000   \n",
              "mean     3.621992e-16  9.947598e-18      -9.379164e-17             3.015800   \n",
              "std      1.000100e+00  1.000100e+00       1.000100e+00             1.414762   \n",
              "min     -1.713792e+00 -1.774556e+00      -1.757817e+00             1.000000   \n",
              "25%     -8.739244e-01 -8.394315e-01      -8.651143e-01             2.000000   \n",
              "50%     -1.684310e-02  6.680450e-03       1.746281e-02             3.000000   \n",
              "75%      8.901944e-01  8.490174e-01       8.524209e-01             4.000000   \n",
              "max      1.718307e+00  1.708358e+00       1.710034e+00             5.000000   \n",
              "\n",
              "       Wearable_Stress_Score  Support_System  Academic_Performance  \n",
              "count           5.000000e+03     5000.000000           5000.000000  \n",
              "mean            8.597567e-17        1.003800              1.524600  \n",
              "std             1.000100e+00        0.821414              1.122696  \n",
              "min            -1.713663e+00        0.000000              0.000000  \n",
              "25%            -8.697591e-01        0.000000              1.000000  \n",
              "50%             1.306696e-02        1.000000              2.000000  \n",
              "75%             8.742702e-01        2.000000              3.000000  \n",
              "max             1.736714e+00        2.000000              3.000000  "
            ]
          },
          "execution_count": 30,
          "metadata": {},
          "output_type": "execute_result"
        }
      ],
      "source": [
        "df_normalized.describe()"
      ]
    },
    {
      "cell_type": "markdown",
      "metadata": {
        "id": "KkPem5eWL2UP"
      },
      "source": [
        "# **3. Data Splitting**"
      ]
    },
    {
      "cell_type": "markdown",
      "metadata": {
        "id": "YYj1rl_JNI9Y"
      },
      "source": [
        "Tahap Data Splitting bertujuan untuk memisahkan dataset menjadi dua bagian: data latih (training set) dan data uji (test set)."
      ]
    },
    {
      "cell_type": "code",
      "execution_count": 32,
      "metadata": {
        "id": "OubAW-7ONKVj"
      },
      "outputs": [],
      "source": [
        "\n",
        "# Pastikan ada kolom fitur dan label (misalnya label ada di kolom terakhir)\n",
        "X = df_normalized.iloc[:, :-1]  # Semua kolom kecuali yang terakhir (fitur)\n",
        "y = df_normalized.iloc[:, -1]   # Kolom terakhir sebagai target (label)\n",
        "\n",
        "# Split data menjadi training dan testing set (80% train, 20% test)\n",
        "X_train, X_test, y_train, y_test = train_test_split(X, y, test_size=0.2, random_state=42)"
      ]
    },
    {
      "cell_type": "code",
      "execution_count": 35,
      "metadata": {},
      "outputs": [
        {
          "data": {
            "text/plain": [
              "(      User_ID  Age  Gender  Social_Media_Hours  Exercise_Hours  Sleep_Hours  \\\n",
              " 4227     4228   18       1           -0.816489        0.648863    -0.933247   \n",
              " 4676     4677   15       0            1.069818        0.828819    -0.093557   \n",
              " 800       801   17       1           -0.382630       -0.560331     0.500229   \n",
              " 3671     3672   14       1           -0.021699       -1.576617     0.353184   \n",
              " 4193     4194   15       0            0.227862       -0.160173     1.344918   \n",
              " ...       ...  ...     ...                 ...             ...          ...   \n",
              " 4426     4427   18       1            0.170561       -0.888908     0.959235   \n",
              " 466       467   13       1            1.202264        1.360853    -1.704882   \n",
              " 3092     3093   17       1            1.111649       -0.844072     1.139890   \n",
              " 3772     3773   16       0           -0.399655       -0.165357    -0.631886   \n",
              " 860       861   16       1           -0.604800       -1.460425    -0.397341   \n",
              " \n",
              "       Screen_Time_Hours  Survey_Stress_Score  Wearable_Stress_Score  \\\n",
              " 4227           1.054827                    1               0.743577   \n",
              " 4676           0.884035                    5              -1.370983   \n",
              " 800            0.355075                    3               0.720876   \n",
              " 3671           0.078877                    3               1.025307   \n",
              " 4193           1.108619                    1              -0.721260   \n",
              " ...                 ...                  ...                    ...   \n",
              " 4426          -0.642733                    4               1.257954   \n",
              " 466            0.014710                    3               0.197449   \n",
              " 3092          -1.195042                    5               1.040758   \n",
              " 3772           1.230589                    5              -0.717502   \n",
              " 860            0.485792                    4               1.167815   \n",
              " \n",
              "       Support_System  \n",
              " 4227               2  \n",
              " 4676               1  \n",
              " 800                2  \n",
              " 3671               1  \n",
              " 4193               0  \n",
              " ...              ...  \n",
              " 4426               2  \n",
              " 466                2  \n",
              " 3092               2  \n",
              " 3772               2  \n",
              " 860                1  \n",
              " \n",
              " [4000 rows x 10 columns],\n",
              " 4227    2\n",
              " 4676    1\n",
              " 800     0\n",
              " 3671    0\n",
              " 4193    0\n",
              "        ..\n",
              " 4426    1\n",
              " 466     0\n",
              " 3092    1\n",
              " 3772    1\n",
              " 860     3\n",
              " Name: Academic_Performance, Length: 4000, dtype: int64)"
            ]
          },
          "execution_count": 35,
          "metadata": {},
          "output_type": "execute_result"
        }
      ],
      "source": [
        "X_train,y_train"
      ]
    },
    {
      "cell_type": "markdown",
      "metadata": {
        "id": "IVPbB03CMhTT"
      },
      "source": [
        "# **4. Membangun Model Klasifikasi**\n"
      ]
    },
    {
      "cell_type": "markdown",
      "metadata": {
        "id": "Ned1pL9zMmBK"
      },
      "source": [
        "## **a. Membangun Model Klasifikasi**"
      ]
    },
    {
      "cell_type": "markdown",
      "metadata": {
        "id": "WAWzPOE4Nkti"
      },
      "source": [
        "Setelah memilih algoritma klasifikasi yang sesuai, langkah selanjutnya adalah melatih model menggunakan data latih.\n",
        "\n",
        "pada tahap ini saya menggunakan algoritma SVM untuk mengklasifikasikan datanya\n"
      ]
    },
    {
      "cell_type": "code",
      "execution_count": null,
      "metadata": {
        "id": "4JYxBe87NLDk"
      },
      "outputs": [],
      "source": [
        "svm_model = SVC(kernel='linear', C=1.0, gamma='scale', random_state=42)\n",
        "\n",
        "# Training model\n",
        "svm_model.fit(X_train, y_train)\n",
        "\n",
        "# prediksi pada data uji\n",
        "y_pred = svm_model.predict(X_test)\n",
        "\n",
        "#evaluasi akurasi\n",
        "accuracy = accuracy_score(y_test, y_pred)\n",
        "print(f\"Akurasi Model SVM: {accuracy:.2f}\")\n"
      ]
    },
    {
      "cell_type": "markdown",
      "metadata": {
        "id": "seYoHNY3XU1y"
      },
      "source": [
        "Tulis narasi atau penjelasan algoritma yang Anda gunakan."
      ]
    },
    {
      "cell_type": "markdown",
      "metadata": {
        "id": "ergzChZFEL-O"
      },
      "source": [
        "## **b. Evaluasi Model Klasifikasi**"
      ]
    },
    {
      "cell_type": "markdown",
      "metadata": {
        "id": "zOm68u-7NpLT"
      },
      "source": [
        "Berikut adalah **rekomendasi** tahapannya.\n",
        "1. Lakukan prediksi menggunakan data uji.\n",
        "2. Hitung metrik evaluasi seperti Accuracy dan F1-Score (Opsional: Precision dan Recall).\n",
        "3. Buat confusion matrix untuk melihat detail prediksi benar dan salah."
      ]
    },
    {
      "cell_type": "code",
      "execution_count": null,
      "metadata": {
        "id": "tMq4QAssNLip"
      },
      "outputs": [],
      "source": [
        "#Type your code here"
      ]
    },
    {
      "cell_type": "markdown",
      "metadata": {
        "id": "H4_9OwrsXZlz"
      },
      "source": [
        "Tulis hasil evaluasi algoritma yang digunakan, jika Anda menggunakan 2 algoritma, maka bandingkan hasilnya."
      ]
    },
    {
      "cell_type": "markdown",
      "metadata": {
        "id": "ph9yIYDXEPuB"
      },
      "source": [
        "## **c. Tuning Model Klasifikasi (Optional)**"
      ]
    },
    {
      "cell_type": "markdown",
      "metadata": {
        "id": "-Bikx3LINv5e"
      },
      "source": [
        "Gunakan GridSearchCV, RandomizedSearchCV, atau metode lainnya untuk mencari kombinasi hyperparameter terbaik"
      ]
    },
    {
      "cell_type": "code",
      "execution_count": null,
      "metadata": {
        "id": "winbFzb8NL95"
      },
      "outputs": [],
      "source": [
        "#Type your code here"
      ]
    },
    {
      "cell_type": "markdown",
      "metadata": {
        "id": "hE7pqlEPEYzI"
      },
      "source": [
        "## **d. Evaluasi Model Klasifikasi setelah Tuning (Optional)**"
      ]
    },
    {
      "cell_type": "markdown",
      "metadata": {
        "id": "feaPESoeN0zz"
      },
      "source": [
        "Berikut adalah rekomendasi tahapannya.\n",
        "1. Gunakan model dengan hyperparameter terbaik.\n",
        "2. Hitung ulang metrik evaluasi untuk melihat apakah ada peningkatan performa."
      ]
    },
    {
      "cell_type": "code",
      "execution_count": null,
      "metadata": {
        "id": "HTXZRvEeNMb1"
      },
      "outputs": [],
      "source": [
        "#Type your code here"
      ]
    },
    {
      "cell_type": "markdown",
      "metadata": {
        "id": "ZRsOdm4uEgAW"
      },
      "source": [
        "## **e. Analisis Hasil Evaluasi Model Klasifikasi**"
      ]
    },
    {
      "cell_type": "markdown",
      "metadata": {
        "id": "Hm3BhSi6N4_l"
      },
      "source": [
        "Berikut adalah **rekomendasi** tahapannya.\n",
        "1. Bandingkan hasil evaluasi sebelum dan setelah tuning (jika dilakukan).\n",
        "2. Identifikasi kelemahan model, seperti:\n",
        "  - Precision atau Recall rendah untuk kelas tertentu.\n",
        "  - Apakah model mengalami overfitting atau underfitting?\n",
        "3. Berikan rekomendasi tindakan lanjutan, seperti mengumpulkan data tambahan atau mencoba algoritma lain jika hasil belum memuaskan."
      ]
    }
  ],
  "metadata": {
    "colab": {
      "provenance": []
    },
    "kernelspec": {
      "display_name": "Python 3",
      "name": "python3"
    },
    "language_info": {
      "codemirror_mode": {
        "name": "ipython",
        "version": 3
      },
      "file_extension": ".py",
      "mimetype": "text/x-python",
      "name": "python",
      "nbconvert_exporter": "python",
      "pygments_lexer": "ipython3",
      "version": "3.10.0"
    }
  },
  "nbformat": 4,
  "nbformat_minor": 0
}
