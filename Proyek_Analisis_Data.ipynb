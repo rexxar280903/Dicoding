{
  "cells": [
    {
      "cell_type": "markdown",
      "metadata": {
        "colab_type": "text",
        "id": "view-in-github"
      },
      "source": [
        "<a href=\"https://colab.research.google.com/github/rexxar280903/Dicoding/blob/main/Copy_of_Proyek_Analisis_Data.ipynb\" target=\"_parent\"><img src=\"https://colab.research.google.com/assets/colab-badge.svg\" alt=\"Open In Colab\"/></a>"
      ]
    },
    {
      "cell_type": "markdown",
      "metadata": {
        "id": "H9wADwK78DCz"
      },
      "source": [
        "# Proyek Analisis Data: [Bike Sharing Dataset]\n",
        "- **Nama:** Kanza Az Zahrawani\n",
        "- **Email:** mc315d5y1202@student.devacademy.id\n",
        "- **ID Dicoding:** mc315d5y1202"
      ]
    },
    {
      "cell_type": "markdown",
      "metadata": {
        "id": "eE0raob58DC0"
      },
      "source": [
        "## Menentukan Pertanyaan Bisnis"
      ]
    },
    {
      "cell_type": "markdown",
      "metadata": {
        "id": "GmQeQ5YF8DC0"
      },
      "source": [
        "- pada musim apa banyak dan sedikit orang merental sepeda?\n",
        "- pada cuaca apa banyak dan sedikit orang merental sepeda?\n",
        "- pada jam berapa terjadi banyak perentalan sepeda?\n",
        "- apa urutan cuaca orang banyak merental sepeda dari yang terbesar?\n",
        "\n"
      ]
    },
    {
      "cell_type": "markdown",
      "metadata": {
        "id": "H-z4QGlO8DC1"
      },
      "source": [
        "## Import Semua Packages/Library yang Digunakan"
      ]
    },
    {
      "cell_type": "code",
      "execution_count": 4,
      "metadata": {},
      "outputs": [],
      "source": [
        "import pandas as pd\n",
        "import matplotlib.pyplot as plt\n",
        "import numpy as np\n",
        "import os"
      ]
    },
    {
      "cell_type": "markdown",
      "metadata": {
        "id": "h_Sh51Xy8DC1"
      },
      "source": [
        "## Data Wrangling"
      ]
    },
    {
      "cell_type": "markdown",
      "metadata": {
        "id": "sXU2GBYu8DC1"
      },
      "source": [
        "### Gathering Data"
      ]
    },
    {
      "cell_type": "markdown",
      "metadata": {
        "id": "MMi6xGaDkbCi"
      },
      "source": [
        "**Insight:**\n",
        "- data diambil dari website kaggle berikut [Link ke dataset di Kaggle](https://www.kaggle.com/datasets/lakshmi25npathi/bike-sharing-dataset/data?select=Readme.txt)\n",
        "\n",
        "- pada website ini terdapat 2 file berisi data nya, namun kedunya mirip yang membedakan cuma salah satu file lebih lengkap karena membuat informasi setiap jamnya\n"
      ]
    },
    {
      "cell_type": "markdown",
      "metadata": {
        "id": "FHSiqaZp8DC1"
      },
      "source": [
        "### Assessing Data"
      ]
    },
    {
      "cell_type": "markdown",
      "metadata": {},
      "source": [
        "#### import file"
      ]
    },
    {
      "cell_type": "code",
      "execution_count": 15,
      "metadata": {
        "id": "ax-3tEjc9Cj1"
      },
      "outputs": [
        {
          "name": "stderr",
          "output_type": "stream",
          "text": [
            "<>:1: SyntaxWarning: invalid escape sequence '\\d'\n",
            "<>:1: SyntaxWarning: invalid escape sequence '\\d'\n",
            "C:\\Users\\user\\AppData\\Local\\Temp\\ipykernel_3480\\3958868214.py:1: SyntaxWarning: invalid escape sequence '\\d'\n",
            "  data = pd.read_csv(\"visualisasi\\dataset\\hour.csv\")\n"
          ]
        }
      ],
      "source": [
        "data = pd.read_csv(\"visualisasi\\dataset\\hour.csv\")"
      ]
    },
    {
      "cell_type": "code",
      "execution_count": 16,
      "metadata": {},
      "outputs": [
        {
          "name": "stdout",
          "output_type": "stream",
          "text": [
            "<class 'pandas.core.frame.DataFrame'>\n",
            "RangeIndex: 17379 entries, 0 to 17378\n",
            "Data columns (total 17 columns):\n",
            " #   Column      Non-Null Count  Dtype  \n",
            "---  ------      --------------  -----  \n",
            " 0   instant     17379 non-null  int64  \n",
            " 1   dteday      17379 non-null  object \n",
            " 2   season      17379 non-null  int64  \n",
            " 3   yr          17379 non-null  int64  \n",
            " 4   mnth        17379 non-null  int64  \n",
            " 5   hr          17379 non-null  int64  \n",
            " 6   holiday     17379 non-null  int64  \n",
            " 7   weekday     17379 non-null  int64  \n",
            " 8   workingday  17379 non-null  int64  \n",
            " 9   weathersit  17379 non-null  int64  \n",
            " 10  temp        17379 non-null  float64\n",
            " 11  atemp       17379 non-null  float64\n",
            " 12  hum         17379 non-null  float64\n",
            " 13  windspeed   17379 non-null  float64\n",
            " 14  casual      17379 non-null  int64  \n",
            " 15  registered  17379 non-null  int64  \n",
            " 16  cnt         17379 non-null  int64  \n",
            "dtypes: float64(4), int64(12), object(1)\n",
            "memory usage: 2.3+ MB\n"
          ]
        }
      ],
      "source": [
        "data.info()"
      ]
    },
    {
      "cell_type": "markdown",
      "metadata": {},
      "source": [
        "#### mengecek null"
      ]
    },
    {
      "cell_type": "code",
      "execution_count": 17,
      "metadata": {},
      "outputs": [
        {
          "data": {
            "text/plain": [
              "instant       0\n",
              "dteday        0\n",
              "season        0\n",
              "yr            0\n",
              "mnth          0\n",
              "hr            0\n",
              "holiday       0\n",
              "weekday       0\n",
              "workingday    0\n",
              "weathersit    0\n",
              "temp          0\n",
              "atemp         0\n",
              "hum           0\n",
              "windspeed     0\n",
              "casual        0\n",
              "registered    0\n",
              "cnt           0\n",
              "dtype: int64"
            ]
          },
          "execution_count": 17,
          "metadata": {},
          "output_type": "execute_result"
        }
      ],
      "source": [
        "data.isnull().sum()"
      ]
    },
    {
      "cell_type": "markdown",
      "metadata": {
        "id": "7dtxhAPrkhPL"
      },
      "source": [
        "**Insight:**\n",
        "data telah dibersihkan, sehingga tidak ada lagi kolom yang kosong "
      ]
    },
    {
      "cell_type": "code",
      "execution_count": 18,
      "metadata": {},
      "outputs": [
        {
          "data": {
            "text/html": [
              "<div>\n",
              "<style scoped>\n",
              "    .dataframe tbody tr th:only-of-type {\n",
              "        vertical-align: middle;\n",
              "    }\n",
              "\n",
              "    .dataframe tbody tr th {\n",
              "        vertical-align: top;\n",
              "    }\n",
              "\n",
              "    .dataframe thead th {\n",
              "        text-align: right;\n",
              "    }\n",
              "</style>\n",
              "<table border=\"1\" class=\"dataframe\">\n",
              "  <thead>\n",
              "    <tr style=\"text-align: right;\">\n",
              "      <th></th>\n",
              "      <th>instant</th>\n",
              "      <th>season</th>\n",
              "      <th>yr</th>\n",
              "      <th>mnth</th>\n",
              "      <th>hr</th>\n",
              "      <th>holiday</th>\n",
              "      <th>weekday</th>\n",
              "      <th>workingday</th>\n",
              "      <th>weathersit</th>\n",
              "      <th>temp</th>\n",
              "      <th>atemp</th>\n",
              "      <th>hum</th>\n",
              "      <th>windspeed</th>\n",
              "      <th>casual</th>\n",
              "      <th>registered</th>\n",
              "      <th>cnt</th>\n",
              "    </tr>\n",
              "  </thead>\n",
              "  <tbody>\n",
              "    <tr>\n",
              "      <th>count</th>\n",
              "      <td>17379.0000</td>\n",
              "      <td>17379.000000</td>\n",
              "      <td>17379.000000</td>\n",
              "      <td>17379.000000</td>\n",
              "      <td>17379.000000</td>\n",
              "      <td>17379.000000</td>\n",
              "      <td>17379.000000</td>\n",
              "      <td>17379.000000</td>\n",
              "      <td>17379.000000</td>\n",
              "      <td>17379.000000</td>\n",
              "      <td>17379.000000</td>\n",
              "      <td>17379.000000</td>\n",
              "      <td>17379.000000</td>\n",
              "      <td>17379.000000</td>\n",
              "      <td>17379.000000</td>\n",
              "      <td>17379.000000</td>\n",
              "    </tr>\n",
              "    <tr>\n",
              "      <th>mean</th>\n",
              "      <td>8690.0000</td>\n",
              "      <td>2.501640</td>\n",
              "      <td>0.502561</td>\n",
              "      <td>6.537775</td>\n",
              "      <td>11.546752</td>\n",
              "      <td>0.028770</td>\n",
              "      <td>3.003683</td>\n",
              "      <td>0.682721</td>\n",
              "      <td>1.425283</td>\n",
              "      <td>0.496987</td>\n",
              "      <td>0.475775</td>\n",
              "      <td>0.627229</td>\n",
              "      <td>0.190098</td>\n",
              "      <td>35.676218</td>\n",
              "      <td>153.786869</td>\n",
              "      <td>189.463088</td>\n",
              "    </tr>\n",
              "    <tr>\n",
              "      <th>std</th>\n",
              "      <td>5017.0295</td>\n",
              "      <td>1.106918</td>\n",
              "      <td>0.500008</td>\n",
              "      <td>3.438776</td>\n",
              "      <td>6.914405</td>\n",
              "      <td>0.167165</td>\n",
              "      <td>2.005771</td>\n",
              "      <td>0.465431</td>\n",
              "      <td>0.639357</td>\n",
              "      <td>0.192556</td>\n",
              "      <td>0.171850</td>\n",
              "      <td>0.192930</td>\n",
              "      <td>0.122340</td>\n",
              "      <td>49.305030</td>\n",
              "      <td>151.357286</td>\n",
              "      <td>181.387599</td>\n",
              "    </tr>\n",
              "    <tr>\n",
              "      <th>min</th>\n",
              "      <td>1.0000</td>\n",
              "      <td>1.000000</td>\n",
              "      <td>0.000000</td>\n",
              "      <td>1.000000</td>\n",
              "      <td>0.000000</td>\n",
              "      <td>0.000000</td>\n",
              "      <td>0.000000</td>\n",
              "      <td>0.000000</td>\n",
              "      <td>1.000000</td>\n",
              "      <td>0.020000</td>\n",
              "      <td>0.000000</td>\n",
              "      <td>0.000000</td>\n",
              "      <td>0.000000</td>\n",
              "      <td>0.000000</td>\n",
              "      <td>0.000000</td>\n",
              "      <td>1.000000</td>\n",
              "    </tr>\n",
              "    <tr>\n",
              "      <th>25%</th>\n",
              "      <td>4345.5000</td>\n",
              "      <td>2.000000</td>\n",
              "      <td>0.000000</td>\n",
              "      <td>4.000000</td>\n",
              "      <td>6.000000</td>\n",
              "      <td>0.000000</td>\n",
              "      <td>1.000000</td>\n",
              "      <td>0.000000</td>\n",
              "      <td>1.000000</td>\n",
              "      <td>0.340000</td>\n",
              "      <td>0.333300</td>\n",
              "      <td>0.480000</td>\n",
              "      <td>0.104500</td>\n",
              "      <td>4.000000</td>\n",
              "      <td>34.000000</td>\n",
              "      <td>40.000000</td>\n",
              "    </tr>\n",
              "    <tr>\n",
              "      <th>50%</th>\n",
              "      <td>8690.0000</td>\n",
              "      <td>3.000000</td>\n",
              "      <td>1.000000</td>\n",
              "      <td>7.000000</td>\n",
              "      <td>12.000000</td>\n",
              "      <td>0.000000</td>\n",
              "      <td>3.000000</td>\n",
              "      <td>1.000000</td>\n",
              "      <td>1.000000</td>\n",
              "      <td>0.500000</td>\n",
              "      <td>0.484800</td>\n",
              "      <td>0.630000</td>\n",
              "      <td>0.194000</td>\n",
              "      <td>17.000000</td>\n",
              "      <td>115.000000</td>\n",
              "      <td>142.000000</td>\n",
              "    </tr>\n",
              "    <tr>\n",
              "      <th>75%</th>\n",
              "      <td>13034.5000</td>\n",
              "      <td>3.000000</td>\n",
              "      <td>1.000000</td>\n",
              "      <td>10.000000</td>\n",
              "      <td>18.000000</td>\n",
              "      <td>0.000000</td>\n",
              "      <td>5.000000</td>\n",
              "      <td>1.000000</td>\n",
              "      <td>2.000000</td>\n",
              "      <td>0.660000</td>\n",
              "      <td>0.621200</td>\n",
              "      <td>0.780000</td>\n",
              "      <td>0.253700</td>\n",
              "      <td>48.000000</td>\n",
              "      <td>220.000000</td>\n",
              "      <td>281.000000</td>\n",
              "    </tr>\n",
              "    <tr>\n",
              "      <th>max</th>\n",
              "      <td>17379.0000</td>\n",
              "      <td>4.000000</td>\n",
              "      <td>1.000000</td>\n",
              "      <td>12.000000</td>\n",
              "      <td>23.000000</td>\n",
              "      <td>1.000000</td>\n",
              "      <td>6.000000</td>\n",
              "      <td>1.000000</td>\n",
              "      <td>4.000000</td>\n",
              "      <td>1.000000</td>\n",
              "      <td>1.000000</td>\n",
              "      <td>1.000000</td>\n",
              "      <td>0.850700</td>\n",
              "      <td>367.000000</td>\n",
              "      <td>886.000000</td>\n",
              "      <td>977.000000</td>\n",
              "    </tr>\n",
              "  </tbody>\n",
              "</table>\n",
              "</div>"
            ],
            "text/plain": [
              "          instant        season            yr          mnth            hr  \\\n",
              "count  17379.0000  17379.000000  17379.000000  17379.000000  17379.000000   \n",
              "mean    8690.0000      2.501640      0.502561      6.537775     11.546752   \n",
              "std     5017.0295      1.106918      0.500008      3.438776      6.914405   \n",
              "min        1.0000      1.000000      0.000000      1.000000      0.000000   \n",
              "25%     4345.5000      2.000000      0.000000      4.000000      6.000000   \n",
              "50%     8690.0000      3.000000      1.000000      7.000000     12.000000   \n",
              "75%    13034.5000      3.000000      1.000000     10.000000     18.000000   \n",
              "max    17379.0000      4.000000      1.000000     12.000000     23.000000   \n",
              "\n",
              "            holiday       weekday    workingday    weathersit          temp  \\\n",
              "count  17379.000000  17379.000000  17379.000000  17379.000000  17379.000000   \n",
              "mean       0.028770      3.003683      0.682721      1.425283      0.496987   \n",
              "std        0.167165      2.005771      0.465431      0.639357      0.192556   \n",
              "min        0.000000      0.000000      0.000000      1.000000      0.020000   \n",
              "25%        0.000000      1.000000      0.000000      1.000000      0.340000   \n",
              "50%        0.000000      3.000000      1.000000      1.000000      0.500000   \n",
              "75%        0.000000      5.000000      1.000000      2.000000      0.660000   \n",
              "max        1.000000      6.000000      1.000000      4.000000      1.000000   \n",
              "\n",
              "              atemp           hum     windspeed        casual    registered  \\\n",
              "count  17379.000000  17379.000000  17379.000000  17379.000000  17379.000000   \n",
              "mean       0.475775      0.627229      0.190098     35.676218    153.786869   \n",
              "std        0.171850      0.192930      0.122340     49.305030    151.357286   \n",
              "min        0.000000      0.000000      0.000000      0.000000      0.000000   \n",
              "25%        0.333300      0.480000      0.104500      4.000000     34.000000   \n",
              "50%        0.484800      0.630000      0.194000     17.000000    115.000000   \n",
              "75%        0.621200      0.780000      0.253700     48.000000    220.000000   \n",
              "max        1.000000      1.000000      0.850700    367.000000    886.000000   \n",
              "\n",
              "                cnt  \n",
              "count  17379.000000  \n",
              "mean     189.463088  \n",
              "std      181.387599  \n",
              "min        1.000000  \n",
              "25%       40.000000  \n",
              "50%      142.000000  \n",
              "75%      281.000000  \n",
              "max      977.000000  "
            ]
          },
          "execution_count": 18,
          "metadata": {},
          "output_type": "execute_result"
        }
      ],
      "source": [
        "data.describe()"
      ]
    },
    {
      "cell_type": "markdown",
      "metadata": {},
      "source": [
        "#### cek duplikat"
      ]
    },
    {
      "cell_type": "code",
      "execution_count": 19,
      "metadata": {},
      "outputs": [
        {
          "data": {
            "text/plain": [
              "np.int64(0)"
            ]
          },
          "execution_count": 19,
          "metadata": {},
          "output_type": "execute_result"
        }
      ],
      "source": [
        "data.duplicated().sum()"
      ]
    },
    {
      "cell_type": "markdown",
      "metadata": {
        "id": "EhN5R4hr8DC1"
      },
      "source": [
        "### Cleaning Data"
      ]
    },
    {
      "cell_type": "code",
      "execution_count": null,
      "metadata": {
        "id": "jVnYpprE9Evz"
      },
      "outputs": [],
      "source": []
    },
    {
      "cell_type": "markdown",
      "metadata": {
        "id": "Q_5ejIqckiSP"
      },
      "source": [
        "**Insight:**\n",
        "- karena pada data ini tidak ada missing value maka tahap ini bisa dilewati"
      ]
    },
    {
      "cell_type": "markdown",
      "metadata": {},
      "source": [
        "\n",
        "#### mengecek outlier"
      ]
    },
    {
      "cell_type": "markdown",
      "metadata": {},
      "source": [
        "##### windspeed"
      ]
    },
    {
      "cell_type": "code",
      "execution_count": 20,
      "metadata": {},
      "outputs": [
        {
          "data": {
            "text/plain": [
              "{'whiskers': [<matplotlib.lines.Line2D at 0x213423cd550>,\n",
              "  <matplotlib.lines.Line2D at 0x213421d4530>],\n",
              " 'caps': [<matplotlib.lines.Line2D at 0x213421d7350>,\n",
              "  <matplotlib.lines.Line2D at 0x213421d7ec0>],\n",
              " 'boxes': [<matplotlib.lines.Line2D at 0x213423cce90>],\n",
              " 'medians': [<matplotlib.lines.Line2D at 0x213423c5610>],\n",
              " 'fliers': [<matplotlib.lines.Line2D at 0x213423c5df0>],\n",
              " 'means': []}"
            ]
          },
          "execution_count": 20,
          "metadata": {},
          "output_type": "execute_result"
        },
        {
          "data": {
            "image/png": "[encoded data removed]",
            "text/plain": [
              "<Figure size 640x480 with 1 Axes>"
            ]
          },
          "metadata": {},
          "output_type": "display_data"
        }
      ],
      "source": [
        "plt.boxplot(data['windspeed'],whis=3)"
      ]
    },
    {
      "cell_type": "code",
      "execution_count": 21,
      "metadata": {},
      "outputs": [
        {
          "data": {
            "text/plain": [
              "(array([2.180e+03, 6.475e+03, 4.465e+03, 2.458e+03, 1.137e+03, 4.340e+02,\n",
              "        1.670e+02, 4.800e+01, 9.000e+00, 6.000e+00]),\n",
              " array([0.     , 0.08507, 0.17014, 0.25521, 0.34028, 0.42535, 0.51042,\n",
              "        0.59549, 0.68056, 0.76563, 0.8507 ]),\n",
              " <BarContainer object of 10 artists>)"
            ]
          },
          "execution_count": 21,
          "metadata": {},
          "output_type": "execute_result"
        },
        {
          "data": {
            "image/png": "[encoded data removed]",
            "text/plain": [
              "<Figure size 640x480 with 1 Axes>"
            ]
          },
          "metadata": {},
          "output_type": "display_data"
        }
      ],
      "source": [
        "plt.hist(data['windspeed'])"
      ]
    },
    {
      "cell_type": "code",
      "execution_count": 22,
      "metadata": {},
      "outputs": [
        {
          "data": {
            "text/plain": [
              "<matplotlib.collections.PathCollection at 0x2134248bd10>"
            ]
          },
          "execution_count": 22,
          "metadata": {},
          "output_type": "execute_result"
        },
        {
          "data": {
            "image/png": "[encoded data removed]",
            "text/plain": [
              "<Figure size 640x480 with 1 Axes>"
            ]
          },
          "metadata": {},
          "output_type": "display_data"
        }
      ],
      "source": [
        "plt.scatter(range(len(data['windspeed'])),data['windspeed'])"
      ]
    },
    {
      "cell_type": "markdown",
      "metadata": {},
      "source": [
        "#### registered"
      ]
    },
    {
      "cell_type": "code",
      "execution_count": 23,
      "metadata": {},
      "outputs": [
        {
          "data": {
            "text/plain": [
              "{'whiskers': [<matplotlib.lines.Line2D at 0x21342ec9370>,\n",
              "  <matplotlib.lines.Line2D at 0x21342ea4230>],\n",
              " 'caps': [<matplotlib.lines.Line2D at 0x21342485100>,\n",
              "  <matplotlib.lines.Line2D at 0x21342f14590>],\n",
              " 'boxes': [<matplotlib.lines.Line2D at 0x21342f155b0>],\n",
              " 'medians': [<matplotlib.lines.Line2D at 0x21342f15940>],\n",
              " 'fliers': [<matplotlib.lines.Line2D at 0x21342f15c40>],\n",
              " 'means': []}"
            ]
          },
          "execution_count": 23,
          "metadata": {},
          "output_type": "execute_result"
        },
        {
          "data": {
            "image/png": "[encoded data removed]",
            "text/plain": [
              "<Figure size 640x480 with 1 Axes>"
            ]
          },
          "metadata": {},
          "output_type": "display_data"
        }
      ],
      "source": [
        "plt.boxplot(data['registered'])"
      ]
    },
    {
      "cell_type": "code",
      "execution_count": 24,
      "metadata": {},
      "outputs": [
        {
          "data": {
            "text/plain": [
              "(array([7262., 4279., 2764., 1341.,  727.,  445.,  220.,  181.,  134.,\n",
              "          26.]),\n",
              " array([  0. ,  88.6, 177.2, 265.8, 354.4, 443. , 531.6, 620.2, 708.8,\n",
              "        797.4, 886. ]),\n",
              " <BarContainer object of 10 artists>)"
            ]
          },
          "execution_count": 24,
          "metadata": {},
          "output_type": "execute_result"
        },
        {
          "data": {
            "image/png": "[encoded data removed]",
            "text/plain": [
              "<Figure size 640x480 with 1 Axes>"
            ]
          },
          "metadata": {},
          "output_type": "display_data"
        }
      ],
      "source": [
        "plt.hist(data['registered'])"
      ]
    },
    {
      "cell_type": "code",
      "execution_count": 25,
      "metadata": {},
      "outputs": [
        {
          "data": {
            "text/plain": [
              "<matplotlib.collections.PathCollection at 0x21342ea54f0>"
            ]
          },
          "execution_count": 25,
          "metadata": {},
          "output_type": "execute_result"
        },
        {
          "data": {
            "image/png": "[encoded data removed]",
            "text/plain": [
              "<Figure size 640x480 with 1 Axes>"
            ]
          },
          "metadata": {},
          "output_type": "display_data"
        }
      ],
      "source": [
        "plt.scatter(range(len(data['registered'])), data['registered'])"
      ]
    },
    {
      "cell_type": "markdown",
      "metadata": {},
      "source": [
        "#### Normalisasi data"
      ]
    },
    {
      "cell_type": "code",
      "execution_count": 41,
      "metadata": {},
      "outputs": [
        {
          "name": "stdout",
          "output_type": "stream",
          "text": [
            "Collecting scikit-learn\n",
            "  Downloading scikit_learn-1.6.1-cp312-cp312-win_amd64.whl.metadata (15 kB)\n",
            "Requirement already satisfied: numpy>=1.19.5 in c:\\users\\user\\videos\\belajar\\dicoding\\.venv\\lib\\site-packages (from scikit-learn) (2.2.3)\n",
            "Collecting scipy>=1.6.0 (from scikit-learn)\n",
            "  Downloading scipy-1.15.2-cp312-cp312-win_amd64.whl.metadata (60 kB)\n",
            "Collecting joblib>=1.2.0 (from scikit-learn)\n",
            "  Downloading joblib-1.4.2-py3-none-any.whl.metadata (5.4 kB)\n",
            "Collecting threadpoolctl>=3.1.0 (from scikit-learn)\n",
            "  Downloading threadpoolctl-3.5.0-py3-none-any.whl.metadata (13 kB)\n",
            "Downloading scikit_learn-1.6.1-cp312-cp312-win_amd64.whl (11.1 MB)\n",
            "   ---------------------------------------- 0.0/11.1 MB ? eta -:--:--\n",
            "    --------------------------------------- 0.3/11.1 MB ? eta -:--:--\n",
            "   - -------------------------------------- 0.5/11.1 MB 1.2 MB/s eta 0:00:09\n",
            "   -- ------------------------------------- 0.8/11.1 MB 1.3 MB/s eta 0:00:08\n",
            "   -- ------------------------------------- 0.8/11.1 MB 1.3 MB/s eta 0:00:08\n",
            "   -- ------------------------------------- 0.8/11.1 MB 1.3 MB/s eta 0:00:08\n",
            "   --- ------------------------------------ 1.0/11.1 MB 811.6 kB/s eta 0:00:13\n",
            "   --- ------------------------------------ 1.0/11.1 MB 811.6 kB/s eta 0:00:13\n",
            "   --- ------------------------------------ 1.0/11.1 MB 811.6 kB/s eta 0:00:13\n",
            "   --- ------------------------------------ 1.0/11.1 MB 811.6 kB/s eta 0:00:13\n",
            "   --- ------------------------------------ 1.0/11.1 MB 811.6 kB/s eta 0:00:13\n",
            "   ---- ----------------------------------- 1.3/11.1 MB 536.9 kB/s eta 0:00:19\n",
            "   ---- ----------------------------------- 1.3/11.1 MB 536.9 kB/s eta 0:00:19\n",
            "   ---- ----------------------------------- 1.3/11.1 MB 536.9 kB/s eta 0:00:19\n",
            "   ---- ----------------------------------- 1.3/11.1 MB 536.9 kB/s eta 0:00:19\n",
            "   ----- ---------------------------------- 1.6/11.1 MB 448.6 kB/s eta 0:00:22\n",
            "   ----- ---------------------------------- 1.6/11.1 MB 448.6 kB/s eta 0:00:22\n",
            "   ----- ---------------------------------- 1.6/11.1 MB 448.6 kB/s eta 0:00:22\n",
            "   ------ --------------------------------- 1.8/11.1 MB 435.8 kB/s eta 0:00:22\n",
            "   ------ --------------------------------- 1.8/11.1 MB 435.8 kB/s eta 0:00:22\n",
            "   ------ --------------------------------- 1.8/11.1 MB 435.8 kB/s eta 0:00:22\n",
            "   ------- -------------------------------- 2.1/11.1 MB 439.8 kB/s eta 0:00:21\n",
            "   ------- -------------------------------- 2.1/11.1 MB 439.8 kB/s eta 0:00:21\n",
            "   -------- ------------------------------- 2.4/11.1 MB 453.4 kB/s eta 0:00:20\n",
            "   -------- ------------------------------- 2.4/11.1 MB 453.4 kB/s eta 0:00:20\n",
            "   -------- ------------------------------- 2.4/11.1 MB 453.4 kB/s eta 0:00:20\n",
            "   --------- ------------------------------ 2.6/11.1 MB 458.9 kB/s eta 0:00:19\n",
            "   --------- ------------------------------ 2.6/11.1 MB 458.9 kB/s eta 0:00:19\n",
            "   ---------- ----------------------------- 2.9/11.1 MB 455.9 kB/s eta 0:00:19\n",
            "   ---------- ----------------------------- 2.9/11.1 MB 455.9 kB/s eta 0:00:19\n",
            "   ---------- ----------------------------- 2.9/11.1 MB 455.9 kB/s eta 0:00:19\n",
            "   ---------- ----------------------------- 2.9/11.1 MB 455.9 kB/s eta 0:00:19\n",
            "   ---------- ----------------------------- 2.9/11.1 MB 455.9 kB/s eta 0:00:19\n",
            "   ----------- ---------------------------- 3.1/11.1 MB 434.2 kB/s eta 0:00:19\n",
            "   ----------- ---------------------------- 3.1/11.1 MB 434.2 kB/s eta 0:00:19\n",
            "   ----------- ---------------------------- 3.1/11.1 MB 434.2 kB/s eta 0:00:19\n",
            "   ------------ --------------------------- 3.4/11.1 MB 422.9 kB/s eta 0:00:19\n",
            "   ------------ --------------------------- 3.4/11.1 MB 422.9 kB/s eta 0:00:19\n",
            "   ------------ --------------------------- 3.4/11.1 MB 422.9 kB/s eta 0:00:19\n",
            "   ------------ --------------------------- 3.4/11.1 MB 422.9 kB/s eta 0:00:19\n",
            "   ------------- -------------------------- 3.7/11.1 MB 416.2 kB/s eta 0:00:18\n",
            "   ------------- -------------------------- 3.7/11.1 MB 416.2 kB/s eta 0:00:18\n",
            "   ------------- -------------------------- 3.7/11.1 MB 416.2 kB/s eta 0:00:18\n",
            "   ------------- -------------------------- 3.7/11.1 MB 416.2 kB/s eta 0:00:18\n",
            "   -------------- ------------------------- 3.9/11.1 MB 400.8 kB/s eta 0:00:18\n",
            "   -------------- ------------------------- 3.9/11.1 MB 400.8 kB/s eta 0:00:18\n",
            "   -------------- ------------------------- 3.9/11.1 MB 400.8 kB/s eta 0:00:18\n",
            "   -------------- ------------------------- 3.9/11.1 MB 400.8 kB/s eta 0:00:18\n",
            "   -------------- ------------------------- 3.9/11.1 MB 400.8 kB/s eta 0:00:18\n",
            "   -------------- ------------------------- 3.9/11.1 MB 400.8 kB/s eta 0:00:18\n",
            "   -------------- ------------------------- 3.9/11.1 MB 400.8 kB/s eta 0:00:18\n",
            "   -------------- ------------------------- 3.9/11.1 MB 400.8 kB/s eta 0:00:18\n",
            "   -------------- ------------------------- 3.9/11.1 MB 400.8 kB/s eta 0:00:18\n",
            "   --------------- ------------------------ 4.2/11.1 MB 361.0 kB/s eta 0:00:20\n",
            "   --------------- ------------------------ 4.2/11.1 MB 361.0 kB/s eta 0:00:20\n",
            "   --------------- ------------------------ 4.2/11.1 MB 361.0 kB/s eta 0:00:20\n",
            "   --------------- ------------------------ 4.2/11.1 MB 361.0 kB/s eta 0:00:20\n",
            "   --------------- ------------------------ 4.2/11.1 MB 361.0 kB/s eta 0:00:20\n",
            "   --------------- ------------------------ 4.2/11.1 MB 361.0 kB/s eta 0:00:20\n",
            "   --------------- ------------------------ 4.2/11.1 MB 361.0 kB/s eta 0:00:20\n",
            "   --------------- ------------------------ 4.2/11.1 MB 361.0 kB/s eta 0:00:20\n",
            "   ---------------- ----------------------- 4.5/11.1 MB 327.3 kB/s eta 0:00:21\n",
            "   ---------------- ----------------------- 4.5/11.1 MB 327.3 kB/s eta 0:00:21\n",
            "   ---------------- ----------------------- 4.5/11.1 MB 327.3 kB/s eta 0:00:21\n",
            "   ---------------- ----------------------- 4.5/11.1 MB 327.3 kB/s eta 0:00:21\n",
            "   ---------------- ----------------------- 4.5/11.1 MB 327.3 kB/s eta 0:00:21\n",
            "   ---------------- ----------------------- 4.5/11.1 MB 327.3 kB/s eta 0:00:21\n",
            "   ---------------- ----------------------- 4.5/11.1 MB 327.3 kB/s eta 0:00:21\n",
            "   ---------------- ----------------------- 4.5/11.1 MB 327.3 kB/s eta 0:00:21\n",
            "   ---------------- ----------------------- 4.5/11.1 MB 327.3 kB/s eta 0:00:21\n",
            "   ---------------- ----------------------- 4.5/11.1 MB 327.3 kB/s eta 0:00:21\n",
            "   ---------------- ----------------------- 4.5/11.1 MB 327.3 kB/s eta 0:00:21\n",
            "   ---------------- ----------------------- 4.7/11.1 MB 295.9 kB/s eta 0:00:22\n",
            "   ---------------- ----------------------- 4.7/11.1 MB 295.9 kB/s eta 0:00:22\n",
            "   ---------------- ----------------------- 4.7/11.1 MB 295.9 kB/s eta 0:00:22\n",
            "   ---------------- ----------------------- 4.7/11.1 MB 295.9 kB/s eta 0:00:22\n",
            "   ---------------- ----------------------- 4.7/11.1 MB 295.9 kB/s eta 0:00:22\n",
            "   ---------------- ----------------------- 4.7/11.1 MB 295.9 kB/s eta 0:00:22\n",
            "   ---------------- ----------------------- 4.7/11.1 MB 295.9 kB/s eta 0:00:22\n",
            "   ---------------- ----------------------- 4.7/11.1 MB 295.9 kB/s eta 0:00:22\n",
            "   ----------------- ---------------------- 5.0/11.1 MB 282.0 kB/s eta 0:00:22\n",
            "   ----------------- ---------------------- 5.0/11.1 MB 282.0 kB/s eta 0:00:22\n",
            "   ----------------- ---------------------- 5.0/11.1 MB 282.0 kB/s eta 0:00:22\n",
            "   ----------------- ---------------------- 5.0/11.1 MB 282.0 kB/s eta 0:00:22\n",
            "   ----------------- ---------------------- 5.0/11.1 MB 282.0 kB/s eta 0:00:22\n",
            "   ----------------- ---------------------- 5.0/11.1 MB 282.0 kB/s eta 0:00:22\n",
            "   ----------------- ---------------------- 5.0/11.1 MB 282.0 kB/s eta 0:00:22\n",
            "   ----------------- ---------------------- 5.0/11.1 MB 282.0 kB/s eta 0:00:22\n",
            "   ------------------ --------------------- 5.2/11.1 MB 269.0 kB/s eta 0:00:22\n",
            "   ------------------ --------------------- 5.2/11.1 MB 269.0 kB/s eta 0:00:22\n",
            "   ------------------ --------------------- 5.2/11.1 MB 269.0 kB/s eta 0:00:22\n",
            "   ------------------ --------------------- 5.2/11.1 MB 269.0 kB/s eta 0:00:22\n",
            "   ------------------- -------------------- 5.5/11.1 MB 270.4 kB/s eta 0:00:21\n",
            "   ------------------- -------------------- 5.5/11.1 MB 270.4 kB/s eta 0:00:21\n",
            "   ------------------- -------------------- 5.5/11.1 MB 270.4 kB/s eta 0:00:21\n",
            "   ------------------- -------------------- 5.5/11.1 MB 270.4 kB/s eta 0:00:21\n",
            "   -------------------- ------------------- 5.8/11.1 MB 271.6 kB/s eta 0:00:20\n",
            "   -------------------- ------------------- 5.8/11.1 MB 271.6 kB/s eta 0:00:20\n",
            "   -------------------- ------------------- 5.8/11.1 MB 271.6 kB/s eta 0:00:20\n",
            "   --------------------- ------------------ 6.0/11.1 MB 278.4 kB/s eta 0:00:19\n",
            "   ---------------------- ----------------- 6.3/11.1 MB 286.7 kB/s eta 0:00:17\n",
            "   ----------------------- ---------------- 6.6/11.1 MB 295.0 kB/s eta 0:00:16\n",
            "   ----------------------- ---------------- 6.6/11.1 MB 295.0 kB/s eta 0:00:16\n",
            "   ------------------------ --------------- 6.8/11.1 MB 303.7 kB/s eta 0:00:15\n",
            "   ------------------------- -------------- 7.1/11.1 MB 311.6 kB/s eta 0:00:13\n",
            "   ------------------------- -------------- 7.1/11.1 MB 311.6 kB/s eta 0:00:13\n",
            "   -------------------------- ------------- 7.3/11.1 MB 318.3 kB/s eta 0:00:12\n",
            "   --------------------------- ------------ 7.6/11.1 MB 326.5 kB/s eta 0:00:11\n",
            "   ---------------------------- ----------- 7.9/11.1 MB 335.3 kB/s eta 0:00:10\n",
            "   ------------------------------ --------- 8.4/11.1 MB 351.9 kB/s eta 0:00:08\n",
            "   ------------------------------- -------- 8.7/11.1 MB 360.3 kB/s eta 0:00:07\n",
            "   -------------------------------- ------- 8.9/11.1 MB 369.1 kB/s eta 0:00:06\n",
            "   --------------------------------- ------ 9.4/11.1 MB 386.6 kB/s eta 0:00:05\n",
            "   ---------------------------------- ----- 9.7/11.1 MB 395.0 kB/s eta 0:00:04\n",
            "   ----------------------------------- ---- 10.0/11.1 MB 403.6 kB/s eta 0:00:03\n",
            "   ------------------------------------ --- 10.2/11.1 MB 411.8 kB/s eta 0:00:03\n",
            "   ------------------------------------- -- 10.5/11.1 MB 418.9 kB/s eta 0:00:02\n",
            "   -------------------------------------- - 10.7/11.1 MB 425.0 kB/s eta 0:00:01\n",
            "   -------------------------------------- - 10.7/11.1 MB 425.0 kB/s eta 0:00:01\n",
            "   -------------------------------------- - 10.7/11.1 MB 425.0 kB/s eta 0:00:01\n",
            "   ---------------------------------------  11.0/11.1 MB 424.3 kB/s eta 0:00:01\n",
            "   ---------------------------------------- 11.1/11.1 MB 424.4 kB/s eta 0:00:00\n",
            "Downloading joblib-1.4.2-py3-none-any.whl (301 kB)\n",
            "Downloading scipy-1.15.2-cp312-cp312-win_amd64.whl (40.9 MB)\n",
            "   ---------------------------------------- 0.0/40.9 MB ? eta -:--:--\n",
            "   ---------------------------------------- 0.0/40.9 MB ? eta -:--:--\n",
            "   ---------------------------------------- 0.3/40.9 MB ? eta -:--:--\n",
            "   ---------------------------------------- 0.3/40.9 MB ? eta -:--:--\n",
            "    --------------------------------------- 0.5/40.9 MB 837.5 kB/s eta 0:00:49\n",
            "    --------------------------------------- 0.8/40.9 MB 859.5 kB/s eta 0:00:47\n",
            "   - -------------------------------------- 1.0/40.9 MB 949.8 kB/s eta 0:00:43\n",
            "   - -------------------------------------- 1.3/40.9 MB 1.0 MB/s eta 0:00:40\n",
            "   - -------------------------------------- 1.3/40.9 MB 1.0 MB/s eta 0:00:40\n",
            "   - -------------------------------------- 1.6/40.9 MB 963.8 kB/s eta 0:00:41\n",
            "   - -------------------------------------- 1.6/40.9 MB 963.8 kB/s eta 0:00:41\n",
            "   - -------------------------------------- 1.8/40.9 MB 811.6 kB/s eta 0:00:49\n",
            "   - -------------------------------------- 1.8/40.9 MB 811.6 kB/s eta 0:00:49\n",
            "   - -------------------------------------- 1.8/40.9 MB 811.6 kB/s eta 0:00:49\n",
            "   - -------------------------------------- 1.8/40.9 MB 811.6 kB/s eta 0:00:49\n",
            "   - -------------------------------------- 1.8/40.9 MB 811.6 kB/s eta 0:00:49\n",
            "   - -------------------------------------- 1.8/40.9 MB 811.6 kB/s eta 0:00:49\n",
            "   -- ------------------------------------- 2.1/40.9 MB 561.9 kB/s eta 0:01:10\n",
            "   -- ------------------------------------- 2.1/40.9 MB 561.9 kB/s eta 0:01:10\n",
            "   -- ------------------------------------- 2.1/40.9 MB 561.9 kB/s eta 0:01:10\n",
            "   -- ------------------------------------- 2.4/40.9 MB 536.8 kB/s eta 0:01:12\n",
            "   -- ------------------------------------- 2.4/40.9 MB 536.8 kB/s eta 0:01:12\n",
            "   -- ------------------------------------- 2.4/40.9 MB 536.8 kB/s eta 0:01:12\n",
            "   -- ------------------------------------- 2.4/40.9 MB 536.8 kB/s eta 0:01:12\n",
            "   -- ------------------------------------- 2.4/40.9 MB 536.8 kB/s eta 0:01:12\n",
            "   -- ------------------------------------- 2.4/40.9 MB 536.8 kB/s eta 0:01:12\n",
            "   -- ------------------------------------- 2.6/40.9 MB 471.9 kB/s eta 0:01:22\n",
            "   -- ------------------------------------- 2.6/40.9 MB 471.9 kB/s eta 0:01:22\n",
            "   -- ------------------------------------- 2.9/40.9 MB 475.2 kB/s eta 0:01:21\n",
            "   --- ------------------------------------ 3.1/40.9 MB 492.1 kB/s eta 0:01:17\n",
            "   --- ------------------------------------ 3.1/40.9 MB 492.1 kB/s eta 0:01:17\n",
            "   --- ------------------------------------ 3.4/40.9 MB 513.6 kB/s eta 0:01:14\n",
            "   --- ------------------------------------ 3.4/40.9 MB 513.6 kB/s eta 0:01:14\n",
            "   --- ------------------------------------ 3.7/40.9 MB 518.1 kB/s eta 0:01:12\n",
            "   --- ------------------------------------ 3.7/40.9 MB 518.1 kB/s eta 0:01:12\n",
            "   --- ------------------------------------ 3.9/40.9 MB 524.3 kB/s eta 0:01:11\n",
            "   ---- ----------------------------------- 4.2/40.9 MB 534.3 kB/s eta 0:01:09\n",
            "   ---- ----------------------------------- 4.2/40.9 MB 534.3 kB/s eta 0:01:09\n",
            "   ---- ----------------------------------- 4.5/40.9 MB 546.7 kB/s eta 0:01:07\n",
            "   ---- ----------------------------------- 4.7/40.9 MB 559.2 kB/s eta 0:01:05\n",
            "   ---- ----------------------------------- 4.7/40.9 MB 559.2 kB/s eta 0:01:05\n",
            "   ---- ----------------------------------- 5.0/40.9 MB 568.7 kB/s eta 0:01:04\n",
            "   ---- ----------------------------------- 5.0/40.9 MB 568.7 kB/s eta 0:01:04\n",
            "   ----- ---------------------------------- 5.2/40.9 MB 575.3 kB/s eta 0:01:03\n",
            "   ----- ---------------------------------- 5.5/40.9 MB 589.7 kB/s eta 0:01:01\n",
            "   ----- ---------------------------------- 5.8/40.9 MB 598.2 kB/s eta 0:00:59\n",
            "   ----- ---------------------------------- 6.0/40.9 MB 609.1 kB/s eta 0:00:58\n",
            "   ----- ---------------------------------- 6.0/40.9 MB 609.1 kB/s eta 0:00:58\n",
            "   ------ --------------------------------- 6.3/40.9 MB 620.4 kB/s eta 0:00:56\n",
            "   ------ --------------------------------- 6.6/40.9 MB 629.1 kB/s eta 0:00:55\n",
            "   ------ --------------------------------- 6.6/40.9 MB 629.1 kB/s eta 0:00:55\n",
            "   ------ --------------------------------- 6.8/40.9 MB 632.6 kB/s eta 0:00:54\n",
            "   ------ --------------------------------- 6.8/40.9 MB 632.6 kB/s eta 0:00:54\n",
            "   ------ --------------------------------- 6.8/40.9 MB 632.6 kB/s eta 0:00:54\n",
            "   ------ --------------------------------- 6.8/40.9 MB 632.6 kB/s eta 0:00:54\n",
            "   ------ --------------------------------- 7.1/40.9 MB 605.8 kB/s eta 0:00:56\n",
            "   ------ --------------------------------- 7.1/40.9 MB 605.8 kB/s eta 0:00:56\n",
            "   ------- -------------------------------- 7.3/40.9 MB 602.4 kB/s eta 0:00:56\n",
            "   ------- -------------------------------- 7.3/40.9 MB 602.4 kB/s eta 0:00:56\n",
            "   ------- -------------------------------- 7.6/40.9 MB 599.9 kB/s eta 0:00:56\n",
            "   ------- -------------------------------- 7.6/40.9 MB 599.9 kB/s eta 0:00:56\n",
            "   ------- -------------------------------- 7.6/40.9 MB 599.9 kB/s eta 0:00:56\n",
            "   ------- -------------------------------- 7.9/40.9 MB 593.3 kB/s eta 0:00:56\n",
            "   ------- -------------------------------- 7.9/40.9 MB 593.3 kB/s eta 0:00:56\n",
            "   ------- -------------------------------- 8.1/40.9 MB 592.8 kB/s eta 0:00:56\n",
            "   ------- -------------------------------- 8.1/40.9 MB 592.8 kB/s eta 0:00:56\n",
            "   -------- ------------------------------- 8.4/40.9 MB 598.5 kB/s eta 0:00:55\n",
            "   -------- ------------------------------- 8.7/40.9 MB 606.6 kB/s eta 0:00:54\n",
            "   -------- ------------------------------- 8.9/40.9 MB 614.5 kB/s eta 0:00:53\n",
            "   -------- ------------------------------- 9.2/40.9 MB 622.1 kB/s eta 0:00:52\n",
            "   --------- ------------------------------ 9.4/40.9 MB 628.0 kB/s eta 0:00:51\n",
            "   --------- ------------------------------ 9.7/40.9 MB 637.8 kB/s eta 0:00:49\n",
            "   --------- ------------------------------ 10.0/40.9 MB 647.3 kB/s eta 0:00:48\n",
            "   --------- ------------------------------ 10.2/40.9 MB 656.6 kB/s eta 0:00:47\n",
            "   ---------- ----------------------------- 10.5/40.9 MB 665.6 kB/s eta 0:00:46\n",
            "   ---------- ----------------------------- 11.0/40.9 MB 685.8 kB/s eta 0:00:44\n",
            "   ----------- ---------------------------- 11.3/40.9 MB 694.2 kB/s eta 0:00:43\n",
            "   ----------- ---------------------------- 11.5/40.9 MB 702.4 kB/s eta 0:00:42\n",
            "   ----------- ---------------------------- 11.8/40.9 MB 711.9 kB/s eta 0:00:41\n",
            "   ----------- ---------------------------- 12.1/40.9 MB 712.2 kB/s eta 0:00:41\n",
            "   ----------- ---------------------------- 12.1/40.9 MB 712.2 kB/s eta 0:00:41\n",
            "   ------------ --------------------------- 12.3/40.9 MB 709.3 kB/s eta 0:00:41\n",
            "   ------------ --------------------------- 12.3/40.9 MB 709.3 kB/s eta 0:00:41\n",
            "   ------------ --------------------------- 12.3/40.9 MB 709.3 kB/s eta 0:00:41\n",
            "   ------------ --------------------------- 12.3/40.9 MB 709.3 kB/s eta 0:00:41\n",
            "   ------------ --------------------------- 12.3/40.9 MB 709.3 kB/s eta 0:00:41\n",
            "   ------------ --------------------------- 12.3/40.9 MB 709.3 kB/s eta 0:00:41\n",
            "   ------------ --------------------------- 12.3/40.9 MB 709.3 kB/s eta 0:00:41\n",
            "   ------------ --------------------------- 12.6/40.9 MB 667.1 kB/s eta 0:00:43\n",
            "   ------------ --------------------------- 12.6/40.9 MB 667.1 kB/s eta 0:00:43\n",
            "   ------------ --------------------------- 12.6/40.9 MB 667.1 kB/s eta 0:00:43\n",
            "   ------------ --------------------------- 12.8/40.9 MB 662.8 kB/s eta 0:00:43\n",
            "   ------------ --------------------------- 13.1/40.9 MB 664.6 kB/s eta 0:00:42\n",
            "   ------------ --------------------------- 13.1/40.9 MB 664.6 kB/s eta 0:00:42\n",
            "   ------------- -------------------------- 13.4/40.9 MB 668.4 kB/s eta 0:00:42\n",
            "   ------------- -------------------------- 13.6/40.9 MB 672.1 kB/s eta 0:00:41\n",
            "   ------------- -------------------------- 13.6/40.9 MB 672.1 kB/s eta 0:00:41\n",
            "   ------------- -------------------------- 13.9/40.9 MB 670.0 kB/s eta 0:00:41\n",
            "   ------------- -------------------------- 13.9/40.9 MB 670.0 kB/s eta 0:00:41\n",
            "   ------------- -------------------------- 14.2/40.9 MB 670.6 kB/s eta 0:00:40\n",
            "   ------------- -------------------------- 14.2/40.9 MB 670.6 kB/s eta 0:00:40\n",
            "   -------------- ------------------------- 14.4/40.9 MB 670.6 kB/s eta 0:00:40\n",
            "   -------------- ------------------------- 14.7/40.9 MB 676.0 kB/s eta 0:00:39\n",
            "   -------------- ------------------------- 14.9/40.9 MB 679.8 kB/s eta 0:00:39\n",
            "   -------------- ------------------------- 15.2/40.9 MB 684.5 kB/s eta 0:00:38\n",
            "   --------------- ------------------------ 15.5/40.9 MB 690.1 kB/s eta 0:00:37\n",
            "   --------------- ------------------------ 15.7/40.9 MB 695.1 kB/s eta 0:00:37\n",
            "   --------------- ------------------------ 16.0/40.9 MB 698.6 kB/s eta 0:00:36\n",
            "   --------------- ------------------------ 16.3/40.9 MB 703.9 kB/s eta 0:00:36\n",
            "   --------------- ------------------------ 16.3/40.9 MB 703.9 kB/s eta 0:00:36\n",
            "   ---------------- ----------------------- 16.5/40.9 MB 704.7 kB/s eta 0:00:35\n",
            "   ---------------- ----------------------- 16.5/40.9 MB 704.7 kB/s eta 0:00:35\n",
            "   ---------------- ----------------------- 16.5/40.9 MB 704.7 kB/s eta 0:00:35\n",
            "   ---------------- ----------------------- 16.5/40.9 MB 704.7 kB/s eta 0:00:35\n",
            "   ---------------- ----------------------- 16.5/40.9 MB 704.7 kB/s eta 0:00:35\n",
            "   ---------------- ----------------------- 16.5/40.9 MB 704.7 kB/s eta 0:00:35\n",
            "   ---------------- ----------------------- 16.8/40.9 MB 679.7 kB/s eta 0:00:36\n",
            "   ---------------- ----------------------- 16.8/40.9 MB 679.7 kB/s eta 0:00:36\n",
            "   ---------------- ----------------------- 16.8/40.9 MB 679.7 kB/s eta 0:00:36\n",
            "   ---------------- ----------------------- 17.0/40.9 MB 671.5 kB/s eta 0:00:36\n",
            "   ---------------- ----------------------- 17.0/40.9 MB 671.5 kB/s eta 0:00:36\n",
            "   ---------------- ----------------------- 17.3/40.9 MB 667.4 kB/s eta 0:00:36\n",
            "   ---------------- ----------------------- 17.3/40.9 MB 667.4 kB/s eta 0:00:36\n",
            "   ---------------- ----------------------- 17.3/40.9 MB 667.4 kB/s eta 0:00:36\n",
            "   ----------------- ---------------------- 17.6/40.9 MB 665.0 kB/s eta 0:00:36\n",
            "   ----------------- ---------------------- 17.8/40.9 MB 666.7 kB/s eta 0:00:35\n",
            "   ----------------- ---------------------- 18.1/40.9 MB 669.5 kB/s eta 0:00:35\n",
            "   ----------------- ---------------------- 18.1/40.9 MB 669.5 kB/s eta 0:00:35\n",
            "   ------------------ --------------------- 18.6/40.9 MB 678.5 kB/s eta 0:00:33\n",
            "   ------------------ --------------------- 18.9/40.9 MB 683.8 kB/s eta 0:00:33\n",
            "   ------------------ --------------------- 19.1/40.9 MB 688.7 kB/s eta 0:00:32\n",
            "   ------------------ --------------------- 19.4/40.9 MB 693.9 kB/s eta 0:00:32\n",
            "   ------------------- -------------------- 19.9/40.9 MB 705.7 kB/s eta 0:00:30\n",
            "   ------------------- -------------------- 20.2/40.9 MB 711.9 kB/s eta 0:00:30\n",
            "   -------------------- ------------------- 20.7/40.9 MB 723.0 kB/s eta 0:00:28\n",
            "   -------------------- ------------------- 21.0/40.9 MB 727.0 kB/s eta 0:00:28\n",
            "   --------------------- ------------------ 21.5/40.9 MB 738.6 kB/s eta 0:00:27\n",
            "   --------------------- ------------------ 21.8/40.9 MB 744.0 kB/s eta 0:00:26\n",
            "   --------------------- ------------------ 22.3/40.9 MB 755.6 kB/s eta 0:00:25\n",
            "   ---------------------- ----------------- 22.8/40.9 MB 767.5 kB/s eta 0:00:24\n",
            "   ---------------------- ----------------- 23.3/40.9 MB 779.9 kB/s eta 0:00:23\n",
            "   ----------------------- ---------------- 23.9/40.9 MB 791.4 kB/s eta 0:00:22\n",
            "   ----------------------- ---------------- 24.1/40.9 MB 796.0 kB/s eta 0:00:22\n",
            "   ------------------------ --------------- 24.6/40.9 MB 807.3 kB/s eta 0:00:21\n",
            "   ------------------------ --------------- 25.4/40.9 MB 825.7 kB/s eta 0:00:19\n",
            "   ------------------------- -------------- 25.7/40.9 MB 832.3 kB/s eta 0:00:19\n",
            "   ------------------------- -------------- 26.2/40.9 MB 834.9 kB/s eta 0:00:18\n",
            "   ------------------------- -------------- 26.2/40.9 MB 834.9 kB/s eta 0:00:18\n",
            "   ------------------------- -------------- 26.5/40.9 MB 831.4 kB/s eta 0:00:18\n",
            "   ------------------------- -------------- 26.5/40.9 MB 831.4 kB/s eta 0:00:18\n",
            "   -------------------------- ------------- 26.7/40.9 MB 835.8 kB/s eta 0:00:17\n",
            "   -------------------------- ------------- 26.7/40.9 MB 835.8 kB/s eta 0:00:17\n",
            "   -------------------------- ------------- 27.0/40.9 MB 865.7 kB/s eta 0:00:17\n",
            "   -------------------------- ------------- 27.3/40.9 MB 865.5 kB/s eta 0:00:16\n",
            "   -------------------------- ------------- 27.3/40.9 MB 865.5 kB/s eta 0:00:16\n",
            "   -------------------------- ------------- 27.5/40.9 MB 865.6 kB/s eta 0:00:16\n",
            "   -------------------------- ------------- 27.5/40.9 MB 865.6 kB/s eta 0:00:16\n",
            "   --------------------------- ------------ 27.8/40.9 MB 856.8 kB/s eta 0:00:16\n",
            "   --------------------------- ------------ 27.8/40.9 MB 856.8 kB/s eta 0:00:16\n",
            "   --------------------------- ------------ 27.8/40.9 MB 856.8 kB/s eta 0:00:16\n",
            "   --------------------------- ------------ 27.8/40.9 MB 856.8 kB/s eta 0:00:16\n",
            "   --------------------------- ------------ 28.0/40.9 MB 873.5 kB/s eta 0:00:15\n",
            "   --------------------------- ------------ 28.0/40.9 MB 873.5 kB/s eta 0:00:15\n",
            "   --------------------------- ------------ 28.0/40.9 MB 873.5 kB/s eta 0:00:15\n",
            "   --------------------------- ------------ 28.0/40.9 MB 873.5 kB/s eta 0:00:15\n",
            "   --------------------------- ------------ 28.0/40.9 MB 873.5 kB/s eta 0:00:15\n",
            "   --------------------------- ------------ 28.3/40.9 MB 857.2 kB/s eta 0:00:15\n",
            "   --------------------------- ------------ 28.3/40.9 MB 857.2 kB/s eta 0:00:15\n",
            "   --------------------------- ------------ 28.3/40.9 MB 857.2 kB/s eta 0:00:15\n",
            "   --------------------------- ------------ 28.3/40.9 MB 857.2 kB/s eta 0:00:15\n",
            "   --------------------------- ------------ 28.3/40.9 MB 857.2 kB/s eta 0:00:15\n",
            "   --------------------------- ------------ 28.6/40.9 MB 838.9 kB/s eta 0:00:15\n",
            "   --------------------------- ------------ 28.6/40.9 MB 838.9 kB/s eta 0:00:15\n",
            "   --------------------------- ------------ 28.6/40.9 MB 838.9 kB/s eta 0:00:15\n",
            "   --------------------------- ------------ 28.6/40.9 MB 838.9 kB/s eta 0:00:15\n",
            "   --------------------------- ------------ 28.6/40.9 MB 838.9 kB/s eta 0:00:15\n",
            "   ---------------------------- ----------- 28.8/40.9 MB 823.1 kB/s eta 0:00:15\n",
            "   ---------------------------- ----------- 28.8/40.9 MB 823.1 kB/s eta 0:00:15\n",
            "   ---------------------------- ----------- 28.8/40.9 MB 823.1 kB/s eta 0:00:15\n",
            "   ---------------------------- ----------- 28.8/40.9 MB 823.1 kB/s eta 0:00:15\n",
            "   ---------------------------- ----------- 28.8/40.9 MB 823.1 kB/s eta 0:00:15\n",
            "   ---------------------------- ----------- 28.8/40.9 MB 823.1 kB/s eta 0:00:15\n",
            "   ---------------------------- ----------- 29.1/40.9 MB 801.9 kB/s eta 0:00:15\n",
            "   ---------------------------- ----------- 29.1/40.9 MB 801.9 kB/s eta 0:00:15\n",
            "   ---------------------------- ----------- 29.4/40.9 MB 791.8 kB/s eta 0:00:15\n",
            "   ---------------------------- ----------- 29.4/40.9 MB 791.8 kB/s eta 0:00:15\n",
            "   ---------------------------- ----------- 29.4/40.9 MB 791.8 kB/s eta 0:00:15\n",
            "   ---------------------------- ----------- 29.4/40.9 MB 791.8 kB/s eta 0:00:15\n",
            "   ---------------------------- ----------- 29.6/40.9 MB 772.6 kB/s eta 0:00:15\n",
            "   ---------------------------- ----------- 29.6/40.9 MB 772.6 kB/s eta 0:00:15\n",
            "   ---------------------------- ----------- 29.6/40.9 MB 772.6 kB/s eta 0:00:15\n",
            "   ---------------------------- ----------- 29.6/40.9 MB 772.6 kB/s eta 0:00:15\n",
            "   ----------------------------- ---------- 29.9/40.9 MB 777.2 kB/s eta 0:00:15\n",
            "   ----------------------------- ---------- 29.9/40.9 MB 777.2 kB/s eta 0:00:15\n",
            "   ----------------------------- ---------- 30.1/40.9 MB 772.6 kB/s eta 0:00:14\n",
            "   ----------------------------- ---------- 30.1/40.9 MB 772.6 kB/s eta 0:00:14\n",
            "   ----------------------------- ---------- 30.4/40.9 MB 773.4 kB/s eta 0:00:14\n",
            "   ----------------------------- ---------- 30.4/40.9 MB 773.4 kB/s eta 0:00:14\n",
            "   ----------------------------- ---------- 30.4/40.9 MB 773.4 kB/s eta 0:00:14\n",
            "   ----------------------------- ---------- 30.4/40.9 MB 773.4 kB/s eta 0:00:14\n",
            "   ----------------------------- ---------- 30.7/40.9 MB 774.3 kB/s eta 0:00:14\n",
            "   ----------------------------- ---------- 30.7/40.9 MB 774.3 kB/s eta 0:00:14\n",
            "   ----------------------------- ---------- 30.7/40.9 MB 774.3 kB/s eta 0:00:14\n",
            "   ----------------------------- ---------- 30.7/40.9 MB 774.3 kB/s eta 0:00:14\n",
            "   ----------------------------- ---------- 30.7/40.9 MB 774.3 kB/s eta 0:00:14\n",
            "   ------------------------------ --------- 30.9/40.9 MB 756.2 kB/s eta 0:00:14\n",
            "   ------------------------------ --------- 30.9/40.9 MB 756.2 kB/s eta 0:00:14\n",
            "   ------------------------------ --------- 30.9/40.9 MB 756.2 kB/s eta 0:00:14\n",
            "   ------------------------------ --------- 30.9/40.9 MB 756.2 kB/s eta 0:00:14\n",
            "   ------------------------------ --------- 30.9/40.9 MB 756.2 kB/s eta 0:00:14\n",
            "   ------------------------------ --------- 30.9/40.9 MB 756.2 kB/s eta 0:00:14\n",
            "   ------------------------------ --------- 31.2/40.9 MB 725.7 kB/s eta 0:00:14\n",
            "   ------------------------------ --------- 31.2/40.9 MB 725.7 kB/s eta 0:00:14\n",
            "   ------------------------------ --------- 31.2/40.9 MB 725.7 kB/s eta 0:00:14\n",
            "   ------------------------------ --------- 31.2/40.9 MB 725.7 kB/s eta 0:00:14\n",
            "   ------------------------------ --------- 31.2/40.9 MB 725.7 kB/s eta 0:00:14\n",
            "   ------------------------------ --------- 31.2/40.9 MB 725.7 kB/s eta 0:00:14\n",
            "   ------------------------------ --------- 31.5/40.9 MB 666.5 kB/s eta 0:00:15\n",
            "   ------------------------------ --------- 31.5/40.9 MB 666.5 kB/s eta 0:00:15\n",
            "   ------------------------------ --------- 31.5/40.9 MB 666.5 kB/s eta 0:00:15\n",
            "   ------------------------------ --------- 31.5/40.9 MB 666.5 kB/s eta 0:00:15\n",
            "   ------------------------------ --------- 31.5/40.9 MB 666.5 kB/s eta 0:00:15\n",
            "   ------------------------------ --------- 31.5/40.9 MB 666.5 kB/s eta 0:00:15\n",
            "   ------------------------------ --------- 31.7/40.9 MB 667.4 kB/s eta 0:00:14\n",
            "   ------------------------------ --------- 31.7/40.9 MB 667.4 kB/s eta 0:00:14\n",
            "   ------------------------------ --------- 31.7/40.9 MB 667.4 kB/s eta 0:00:14\n",
            "   ------------------------------ --------- 31.7/40.9 MB 667.4 kB/s eta 0:00:14\n",
            "   ------------------------------- -------- 32.0/40.9 MB 653.8 kB/s eta 0:00:14\n",
            "   ------------------------------- -------- 32.0/40.9 MB 653.8 kB/s eta 0:00:14\n",
            "   ------------------------------- -------- 32.0/40.9 MB 653.8 kB/s eta 0:00:14\n",
            "   ------------------------------- -------- 32.0/40.9 MB 653.8 kB/s eta 0:00:14\n",
            "   ------------------------------- -------- 32.0/40.9 MB 653.8 kB/s eta 0:00:14\n",
            "   ------------------------------- -------- 32.0/40.9 MB 653.8 kB/s eta 0:00:14\n",
            "   ------------------------------- -------- 32.0/40.9 MB 653.8 kB/s eta 0:00:14\n",
            "   ------------------------------- -------- 32.0/40.9 MB 653.8 kB/s eta 0:00:14\n",
            "   ------------------------------- -------- 32.0/40.9 MB 653.8 kB/s eta 0:00:14\n",
            "   ------------------------------- -------- 32.0/40.9 MB 653.8 kB/s eta 0:00:14\n",
            "   ------------------------------- -------- 32.2/40.9 MB 616.2 kB/s eta 0:00:15\n",
            "   ------------------------------- -------- 32.2/40.9 MB 616.2 kB/s eta 0:00:15\n",
            "   ------------------------------- -------- 32.2/40.9 MB 616.2 kB/s eta 0:00:15\n",
            "   ------------------------------- -------- 32.2/40.9 MB 616.2 kB/s eta 0:00:15\n",
            "   ------------------------------- -------- 32.2/40.9 MB 616.2 kB/s eta 0:00:15\n",
            "   ------------------------------- -------- 32.5/40.9 MB 595.1 kB/s eta 0:00:15\n",
            "   ------------------------------- -------- 32.5/40.9 MB 595.1 kB/s eta 0:00:15\n",
            "   ------------------------------- -------- 32.5/40.9 MB 595.1 kB/s eta 0:00:15\n",
            "   ------------------------------- -------- 32.5/40.9 MB 595.1 kB/s eta 0:00:15\n",
            "   ------------------------------- -------- 32.5/40.9 MB 595.1 kB/s eta 0:00:15\n",
            "   ------------------------------- -------- 32.5/40.9 MB 595.1 kB/s eta 0:00:15\n",
            "   ------------------------------- -------- 32.5/40.9 MB 595.1 kB/s eta 0:00:15\n",
            "   -------------------------------- ------- 32.8/40.9 MB 546.6 kB/s eta 0:00:15\n",
            "   -------------------------------- ------- 32.8/40.9 MB 546.6 kB/s eta 0:00:15\n",
            "   -------------------------------- ------- 32.8/40.9 MB 546.6 kB/s eta 0:00:15\n",
            "   -------------------------------- ------- 32.8/40.9 MB 546.6 kB/s eta 0:00:15\n",
            "   -------------------------------- ------- 32.8/40.9 MB 546.6 kB/s eta 0:00:15\n",
            "   -------------------------------- ------- 32.8/40.9 MB 546.6 kB/s eta 0:00:15\n",
            "   -------------------------------- ------- 33.0/40.9 MB 543.7 kB/s eta 0:00:15\n",
            "   -------------------------------- ------- 33.0/40.9 MB 543.7 kB/s eta 0:00:15\n",
            "   -------------------------------- ------- 33.0/40.9 MB 543.7 kB/s eta 0:00:15\n",
            "   -------------------------------- ------- 33.0/40.9 MB 543.7 kB/s eta 0:00:15\n",
            "   -------------------------------- ------- 33.0/40.9 MB 543.7 kB/s eta 0:00:15\n",
            "   -------------------------------- ------- 33.0/40.9 MB 543.7 kB/s eta 0:00:15\n",
            "   -------------------------------- ------- 33.0/40.9 MB 543.7 kB/s eta 0:00:15\n",
            "   -------------------------------- ------- 33.0/40.9 MB 543.7 kB/s eta 0:00:15\n",
            "   -------------------------------- ------- 33.3/40.9 MB 529.2 kB/s eta 0:00:15\n",
            "   -------------------------------- ------- 33.3/40.9 MB 529.2 kB/s eta 0:00:15\n",
            "   -------------------------------- ------- 33.3/40.9 MB 529.2 kB/s eta 0:00:15\n",
            "   -------------------------------- ------- 33.3/40.9 MB 529.2 kB/s eta 0:00:15\n",
            "   -------------------------------- ------- 33.3/40.9 MB 529.2 kB/s eta 0:00:15\n",
            "   -------------------------------- ------- 33.3/40.9 MB 529.2 kB/s eta 0:00:15\n",
            "   -------------------------------- ------- 33.3/40.9 MB 529.2 kB/s eta 0:00:15\n",
            "   -------------------------------- ------- 33.6/40.9 MB 482.6 kB/s eta 0:00:16\n",
            "   -------------------------------- ------- 33.6/40.9 MB 482.6 kB/s eta 0:00:16\n",
            "   -------------------------------- ------- 33.6/40.9 MB 482.6 kB/s eta 0:00:16\n",
            "   -------------------------------- ------- 33.6/40.9 MB 482.6 kB/s eta 0:00:16\n",
            "   -------------------------------- ------- 33.6/40.9 MB 482.6 kB/s eta 0:00:16\n",
            "   -------------------------------- ------- 33.6/40.9 MB 482.6 kB/s eta 0:00:16\n",
            "   -------------------------------- ------- 33.6/40.9 MB 482.6 kB/s eta 0:00:16\n",
            "   --------------------------------- ------ 33.8/40.9 MB 403.0 kB/s eta 0:00:18\n",
            "   --------------------------------- ------ 33.8/40.9 MB 403.0 kB/s eta 0:00:18\n",
            "   --------------------------------- ------ 33.8/40.9 MB 403.0 kB/s eta 0:00:18\n",
            "   --------------------------------- ------ 33.8/40.9 MB 403.0 kB/s eta 0:00:18\n",
            "   --------------------------------- ------ 33.8/40.9 MB 403.0 kB/s eta 0:00:18\n",
            "   --------------------------------- ------ 33.8/40.9 MB 403.0 kB/s eta 0:00:18\n",
            "   --------------------------------- ------ 33.8/40.9 MB 403.0 kB/s eta 0:00:18\n",
            "   --------------------------------- ------ 34.1/40.9 MB 289.0 kB/s eta 0:00:24\n",
            "   --------------------------------- ------ 34.1/40.9 MB 289.0 kB/s eta 0:00:24\n",
            "   --------------------------------- ------ 34.1/40.9 MB 289.0 kB/s eta 0:00:24\n",
            "   --------------------------------- ------ 34.1/40.9 MB 289.0 kB/s eta 0:00:24\n",
            "   --------------------------------- ------ 34.1/40.9 MB 289.0 kB/s eta 0:00:24\n",
            "   --------------------------------- ------ 34.1/40.9 MB 289.0 kB/s eta 0:00:24\n",
            "   --------------------------------- ------ 34.3/40.9 MB 254.3 kB/s eta 0:00:26\n",
            "   --------------------------------- ------ 34.3/40.9 MB 254.3 kB/s eta 0:00:26\n",
            "   --------------------------------- ------ 34.3/40.9 MB 254.3 kB/s eta 0:00:26\n",
            "   --------------------------------- ------ 34.3/40.9 MB 254.3 kB/s eta 0:00:26\n",
            "   --------------------------------- ------ 34.6/40.9 MB 237.3 kB/s eta 0:00:27\n",
            "   --------------------------------- ------ 34.6/40.9 MB 237.3 kB/s eta 0:00:27\n",
            "   --------------------------------- ------ 34.6/40.9 MB 237.3 kB/s eta 0:00:27\n",
            "   --------------------------------- ------ 34.6/40.9 MB 237.3 kB/s eta 0:00:27\n",
            "   --------------------------------- ------ 34.6/40.9 MB 237.3 kB/s eta 0:00:27\n",
            "   --------------------------------- ------ 34.6/40.9 MB 237.3 kB/s eta 0:00:27\n",
            "   ---------------------------------- ----- 34.9/40.9 MB 229.7 kB/s eta 0:00:27\n",
            "   ---------------------------------- ----- 34.9/40.9 MB 229.7 kB/s eta 0:00:27\n",
            "   ---------------------------------- ----- 34.9/40.9 MB 229.7 kB/s eta 0:00:27\n",
            "   ---------------------------------- ----- 34.9/40.9 MB 229.7 kB/s eta 0:00:27\n",
            "   ---------------------------------- ----- 34.9/40.9 MB 229.7 kB/s eta 0:00:27\n",
            "   ---------------------------------- ----- 34.9/40.9 MB 229.7 kB/s eta 0:00:27\n",
            "   ---------------------------------- ----- 34.9/40.9 MB 229.7 kB/s eta 0:00:27\n",
            "   ---------------------------------- ----- 34.9/40.9 MB 229.7 kB/s eta 0:00:27\n",
            "   ---------------------------------- ----- 35.1/40.9 MB 222.6 kB/s eta 0:00:27\n",
            "   ---------------------------------- ----- 35.1/40.9 MB 222.6 kB/s eta 0:00:27\n",
            "   ---------------------------------- ----- 35.1/40.9 MB 222.6 kB/s eta 0:00:27\n",
            "   ---------------------------------- ----- 35.4/40.9 MB 226.8 kB/s eta 0:00:25\n",
            "   ---------------------------------- ----- 35.4/40.9 MB 226.8 kB/s eta 0:00:25\n",
            "   ---------------------------------- ----- 35.7/40.9 MB 233.0 kB/s eta 0:00:23\n",
            "   ----------------------------------- ---- 35.9/40.9 MB 239.8 kB/s eta 0:00:21\n",
            "   ----------------------------------- ---- 36.2/40.9 MB 246.6 kB/s eta 0:00:20\n",
            "   ----------------------------------- ---- 36.4/40.9 MB 253.7 kB/s eta 0:00:18\n",
            "   ----------------------------------- ---- 36.7/40.9 MB 261.6 kB/s eta 0:00:17\n",
            "   ------------------------------------ --- 37.0/40.9 MB 268.3 kB/s eta 0:00:15\n",
            "   ------------------------------------ --- 37.2/40.9 MB 275.5 kB/s eta 0:00:14\n",
            "   ------------------------------------ --- 37.5/40.9 MB 282.4 kB/s eta 0:00:13\n",
            "   ------------------------------------ --- 37.7/40.9 MB 289.0 kB/s eta 0:00:12\n",
            "   ------------------------------------ --- 37.7/40.9 MB 289.0 kB/s eta 0:00:12\n",
            "   ------------------------------------- -- 38.0/40.9 MB 291.9 kB/s eta 0:00:11\n",
            "   ------------------------------------- -- 38.0/40.9 MB 291.9 kB/s eta 0:00:11\n",
            "   ------------------------------------- -- 38.3/40.9 MB 295.6 kB/s eta 0:00:10\n",
            "   ------------------------------------- -- 38.3/40.9 MB 295.6 kB/s eta 0:00:10\n",
            "   ------------------------------------- -- 38.3/40.9 MB 295.6 kB/s eta 0:00:10\n",
            "   ------------------------------------- -- 38.3/40.9 MB 295.6 kB/s eta 0:00:10\n",
            "   ------------------------------------- -- 38.5/40.9 MB 295.4 kB/s eta 0:00:09\n",
            "   ------------------------------------- -- 38.5/40.9 MB 295.4 kB/s eta 0:00:09\n",
            "   ------------------------------------- -- 38.8/40.9 MB 299.9 kB/s eta 0:00:08\n",
            "   ------------------------------------- -- 38.8/40.9 MB 299.9 kB/s eta 0:00:08\n",
            "   -------------------------------------- - 39.1/40.9 MB 299.6 kB/s eta 0:00:07\n",
            "   -------------------------------------- - 39.1/40.9 MB 299.6 kB/s eta 0:00:07\n",
            "   -------------------------------------- - 39.1/40.9 MB 299.6 kB/s eta 0:00:07\n",
            "   -------------------------------------- - 39.1/40.9 MB 299.6 kB/s eta 0:00:07\n",
            "   -------------------------------------- - 39.1/40.9 MB 299.6 kB/s eta 0:00:07\n",
            "   -------------------------------------- - 39.3/40.9 MB 291.7 kB/s eta 0:00:06\n",
            "   -------------------------------------- - 39.3/40.9 MB 291.7 kB/s eta 0:00:06\n",
            "   -------------------------------------- - 39.3/40.9 MB 291.7 kB/s eta 0:00:06\n",
            "   -------------------------------------- - 39.6/40.9 MB 297.7 kB/s eta 0:00:05\n",
            "   -------------------------------------- - 39.8/40.9 MB 302.8 kB/s eta 0:00:04\n",
            "   -------------------------------------- - 39.8/40.9 MB 302.8 kB/s eta 0:00:04\n",
            "   -------------------------------------- - 39.8/40.9 MB 302.8 kB/s eta 0:00:04\n",
            "   -------------------------------------- - 39.8/40.9 MB 302.8 kB/s eta 0:00:04\n",
            "   ---------------------------------------  40.1/40.9 MB 308.0 kB/s eta 0:00:03\n",
            "   ---------------------------------------  40.1/40.9 MB 308.0 kB/s eta 0:00:03\n",
            "   ---------------------------------------  40.4/40.9 MB 312.2 kB/s eta 0:00:02\n",
            "   ---------------------------------------  40.4/40.9 MB 312.2 kB/s eta 0:00:02\n",
            "   ---------------------------------------  40.6/40.9 MB 315.4 kB/s eta 0:00:01\n",
            "   ---------------------------------------  40.6/40.9 MB 315.4 kB/s eta 0:00:01\n",
            "   ---------------------------------------  40.9/40.9 MB 325.8 kB/s eta 0:00:01\n",
            "   ---------------------------------------- 40.9/40.9 MB 324.8 kB/s eta 0:00:00\n",
            "Downloading threadpoolctl-3.5.0-py3-none-any.whl (18 kB)\n",
            "Installing collected packages: threadpoolctl, scipy, joblib, scikit-learn\n",
            "Successfully installed joblib-1.4.2 scikit-learn-1.6.1 scipy-1.15.2 threadpoolctl-3.5.0\n",
            "Note: you may need to restart the kernel to use updated packages.\n"
          ]
        }
      ],
      "source": [
        "pip install scikit-learn"
      ]
    },
    {
      "cell_type": "code",
      "execution_count": 42,
      "metadata": {},
      "outputs": [
        {
          "name": "stdout",
          "output_type": "stream",
          "text": [
            "   instant      dteday  season  yr  mnth  hr  holiday  weekday  workingday  \\\n",
            "0        1  2011-01-01       1   0     1   0        0        6           0   \n",
            "1        2  2011-01-01       1   0     1   1        0        6           0   \n",
            "2        3  2011-01-01       1   0     1   2        0        6           0   \n",
            "3        4  2011-01-01       1   0     1   3        0        6           0   \n",
            "4        5  2011-01-01       1   0     1   4        0        6           0   \n",
            "\n",
            "   weathersit      temp   atemp   hum  windspeed    casual  registered  \\\n",
            "0           1  0.224490  0.2879  0.81        0.0  0.008174    0.014673   \n",
            "1           1  0.204082  0.2727  0.80        0.0  0.021798    0.036117   \n",
            "2           1  0.204082  0.2727  0.80        0.0  0.013624    0.030474   \n",
            "3           1  0.224490  0.2879  0.75        0.0  0.008174    0.011287   \n",
            "4           1  0.224490  0.2879  0.75        0.0  0.000000    0.001129   \n",
            "\n",
            "        cnt  \n",
            "0  0.015369  \n",
            "1  0.039959  \n",
            "2  0.031762  \n",
            "3  0.012295  \n",
            "4  0.000000  \n"
          ]
        }
      ],
      "source": [
        "from sklearn.preprocessing import MinMaxScaler\n",
        "# Kolom numerik yang akan dinormalisasi\n",
        "numeric_cols = ['temp', 'atemp', 'hum', 'windspeed', 'casual', 'registered', 'cnt']\n",
        "\n",
        "# Inisialisasi scaler\n",
        "scaler = MinMaxScaler()\n",
        "\n",
        "# Normalisasi\n",
        "data[numeric_cols] = scaler.fit_transform(data[numeric_cols])\n",
        "\n",
        "# Cek hasil\n",
        "print(data.head())"
      ]
    },
    {
      "cell_type": "markdown",
      "metadata": {
        "id": "gp-Y6wU38DC1"
      },
      "source": [
        "## Exploratory Data Analysis (EDA)"
      ]
    },
    {
      "cell_type": "markdown",
      "metadata": {
        "id": "MW7WF2kr8DC1"
      },
      "source": [
        "### Explore ..."
      ]
    },
    {
      "cell_type": "code",
      "execution_count": 43,
      "metadata": {
        "id": "e9CQCZjk8DC2"
      },
      "outputs": [
        {
          "data": {
            "text/html": [
              "<div>\n",
              "<style scoped>\n",
              "    .dataframe tbody tr th:only-of-type {\n",
              "        vertical-align: middle;\n",
              "    }\n",
              "\n",
              "    .dataframe tbody tr th {\n",
              "        vertical-align: top;\n",
              "    }\n",
              "\n",
              "    .dataframe thead th {\n",
              "        text-align: right;\n",
              "    }\n",
              "</style>\n",
              "<table border=\"1\" class=\"dataframe\">\n",
              "  <thead>\n",
              "    <tr style=\"text-align: right;\">\n",
              "      <th></th>\n",
              "      <th>instant</th>\n",
              "      <th>dteday</th>\n",
              "      <th>season</th>\n",
              "      <th>yr</th>\n",
              "      <th>mnth</th>\n",
              "      <th>hr</th>\n",
              "      <th>holiday</th>\n",
              "      <th>weekday</th>\n",
              "      <th>workingday</th>\n",
              "      <th>weathersit</th>\n",
              "      <th>temp</th>\n",
              "      <th>atemp</th>\n",
              "      <th>hum</th>\n",
              "      <th>windspeed</th>\n",
              "      <th>casual</th>\n",
              "      <th>registered</th>\n",
              "      <th>cnt</th>\n",
              "    </tr>\n",
              "  </thead>\n",
              "  <tbody>\n",
              "    <tr>\n",
              "      <th>count</th>\n",
              "      <td>17379.0000</td>\n",
              "      <td>17379</td>\n",
              "      <td>17379.000000</td>\n",
              "      <td>17379.000000</td>\n",
              "      <td>17379.000000</td>\n",
              "      <td>17379.000000</td>\n",
              "      <td>17379.000000</td>\n",
              "      <td>17379.000000</td>\n",
              "      <td>17379.000000</td>\n",
              "      <td>17379.000000</td>\n",
              "      <td>17379.000000</td>\n",
              "      <td>17379.000000</td>\n",
              "      <td>17379.000000</td>\n",
              "      <td>17379.000000</td>\n",
              "      <td>17379.000000</td>\n",
              "      <td>17379.000000</td>\n",
              "      <td>17379.000000</td>\n",
              "    </tr>\n",
              "    <tr>\n",
              "      <th>unique</th>\n",
              "      <td>NaN</td>\n",
              "      <td>731</td>\n",
              "      <td>NaN</td>\n",
              "      <td>NaN</td>\n",
              "      <td>NaN</td>\n",
              "      <td>NaN</td>\n",
              "      <td>NaN</td>\n",
              "      <td>NaN</td>\n",
              "      <td>NaN</td>\n",
              "      <td>NaN</td>\n",
              "      <td>NaN</td>\n",
              "      <td>NaN</td>\n",
              "      <td>NaN</td>\n",
              "      <td>NaN</td>\n",
              "      <td>NaN</td>\n",
              "      <td>NaN</td>\n",
              "      <td>NaN</td>\n",
              "    </tr>\n",
              "    <tr>\n",
              "      <th>top</th>\n",
              "      <td>NaN</td>\n",
              "      <td>2012-12-31</td>\n",
              "      <td>NaN</td>\n",
              "      <td>NaN</td>\n",
              "      <td>NaN</td>\n",
              "      <td>NaN</td>\n",
              "      <td>NaN</td>\n",
              "      <td>NaN</td>\n",
              "      <td>NaN</td>\n",
              "      <td>NaN</td>\n",
              "      <td>NaN</td>\n",
              "      <td>NaN</td>\n",
              "      <td>NaN</td>\n",
              "      <td>NaN</td>\n",
              "      <td>NaN</td>\n",
              "      <td>NaN</td>\n",
              "      <td>NaN</td>\n",
              "    </tr>\n",
              "    <tr>\n",
              "      <th>freq</th>\n",
              "      <td>NaN</td>\n",
              "      <td>24</td>\n",
              "      <td>NaN</td>\n",
              "      <td>NaN</td>\n",
              "      <td>NaN</td>\n",
              "      <td>NaN</td>\n",
              "      <td>NaN</td>\n",
              "      <td>NaN</td>\n",
              "      <td>NaN</td>\n",
              "      <td>NaN</td>\n",
              "      <td>NaN</td>\n",
              "      <td>NaN</td>\n",
              "      <td>NaN</td>\n",
              "      <td>NaN</td>\n",
              "      <td>NaN</td>\n",
              "      <td>NaN</td>\n",
              "      <td>NaN</td>\n",
              "    </tr>\n",
              "    <tr>\n",
              "      <th>mean</th>\n",
              "      <td>8690.0000</td>\n",
              "      <td>NaN</td>\n",
              "      <td>2.501640</td>\n",
              "      <td>0.502561</td>\n",
              "      <td>6.537775</td>\n",
              "      <td>11.546752</td>\n",
              "      <td>0.028770</td>\n",
              "      <td>3.003683</td>\n",
              "      <td>0.682721</td>\n",
              "      <td>1.425283</td>\n",
              "      <td>0.486722</td>\n",
              "      <td>0.475775</td>\n",
              "      <td>0.627229</td>\n",
              "      <td>0.223460</td>\n",
              "      <td>0.097210</td>\n",
              "      <td>0.173574</td>\n",
              "      <td>0.193097</td>\n",
              "    </tr>\n",
              "    <tr>\n",
              "      <th>std</th>\n",
              "      <td>5017.0295</td>\n",
              "      <td>NaN</td>\n",
              "      <td>1.106918</td>\n",
              "      <td>0.500008</td>\n",
              "      <td>3.438776</td>\n",
              "      <td>6.914405</td>\n",
              "      <td>0.167165</td>\n",
              "      <td>2.005771</td>\n",
              "      <td>0.465431</td>\n",
              "      <td>0.639357</td>\n",
              "      <td>0.196486</td>\n",
              "      <td>0.171850</td>\n",
              "      <td>0.192930</td>\n",
              "      <td>0.143811</td>\n",
              "      <td>0.134346</td>\n",
              "      <td>0.170832</td>\n",
              "      <td>0.185848</td>\n",
              "    </tr>\n",
              "    <tr>\n",
              "      <th>min</th>\n",
              "      <td>1.0000</td>\n",
              "      <td>NaN</td>\n",
              "      <td>1.000000</td>\n",
              "      <td>0.000000</td>\n",
              "      <td>1.000000</td>\n",
              "      <td>0.000000</td>\n",
              "      <td>0.000000</td>\n",
              "      <td>0.000000</td>\n",
              "      <td>0.000000</td>\n",
              "      <td>1.000000</td>\n",
              "      <td>0.000000</td>\n",
              "      <td>0.000000</td>\n",
              "      <td>0.000000</td>\n",
              "      <td>0.000000</td>\n",
              "      <td>0.000000</td>\n",
              "      <td>0.000000</td>\n",
              "      <td>0.000000</td>\n",
              "    </tr>\n",
              "    <tr>\n",
              "      <th>25%</th>\n",
              "      <td>4345.5000</td>\n",
              "      <td>NaN</td>\n",
              "      <td>2.000000</td>\n",
              "      <td>0.000000</td>\n",
              "      <td>4.000000</td>\n",
              "      <td>6.000000</td>\n",
              "      <td>0.000000</td>\n",
              "      <td>1.000000</td>\n",
              "      <td>0.000000</td>\n",
              "      <td>1.000000</td>\n",
              "      <td>0.326531</td>\n",
              "      <td>0.333300</td>\n",
              "      <td>0.480000</td>\n",
              "      <td>0.122840</td>\n",
              "      <td>0.010899</td>\n",
              "      <td>0.038375</td>\n",
              "      <td>0.039959</td>\n",
              "    </tr>\n",
              "    <tr>\n",
              "      <th>50%</th>\n",
              "      <td>8690.0000</td>\n",
              "      <td>NaN</td>\n",
              "      <td>3.000000</td>\n",
              "      <td>1.000000</td>\n",
              "      <td>7.000000</td>\n",
              "      <td>12.000000</td>\n",
              "      <td>0.000000</td>\n",
              "      <td>3.000000</td>\n",
              "      <td>1.000000</td>\n",
              "      <td>1.000000</td>\n",
              "      <td>0.489796</td>\n",
              "      <td>0.484800</td>\n",
              "      <td>0.630000</td>\n",
              "      <td>0.228047</td>\n",
              "      <td>0.046322</td>\n",
              "      <td>0.129797</td>\n",
              "      <td>0.144467</td>\n",
              "    </tr>\n",
              "    <tr>\n",
              "      <th>75%</th>\n",
              "      <td>13034.5000</td>\n",
              "      <td>NaN</td>\n",
              "      <td>3.000000</td>\n",
              "      <td>1.000000</td>\n",
              "      <td>10.000000</td>\n",
              "      <td>18.000000</td>\n",
              "      <td>0.000000</td>\n",
              "      <td>5.000000</td>\n",
              "      <td>1.000000</td>\n",
              "      <td>2.000000</td>\n",
              "      <td>0.653061</td>\n",
              "      <td>0.621200</td>\n",
              "      <td>0.780000</td>\n",
              "      <td>0.298225</td>\n",
              "      <td>0.130790</td>\n",
              "      <td>0.248307</td>\n",
              "      <td>0.286885</td>\n",
              "    </tr>\n",
              "    <tr>\n",
              "      <th>max</th>\n",
              "      <td>17379.0000</td>\n",
              "      <td>NaN</td>\n",
              "      <td>4.000000</td>\n",
              "      <td>1.000000</td>\n",
              "      <td>12.000000</td>\n",
              "      <td>23.000000</td>\n",
              "      <td>1.000000</td>\n",
              "      <td>6.000000</td>\n",
              "      <td>1.000000</td>\n",
              "      <td>4.000000</td>\n",
              "      <td>1.000000</td>\n",
              "      <td>1.000000</td>\n",
              "      <td>1.000000</td>\n",
              "      <td>1.000000</td>\n",
              "      <td>1.000000</td>\n",
              "      <td>1.000000</td>\n",
              "      <td>1.000000</td>\n",
              "    </tr>\n",
              "  </tbody>\n",
              "</table>\n",
              "</div>"
            ],
            "text/plain": [
              "           instant      dteday        season            yr          mnth  \\\n",
              "count   17379.0000       17379  17379.000000  17379.000000  17379.000000   \n",
              "unique         NaN         731           NaN           NaN           NaN   \n",
              "top            NaN  2012-12-31           NaN           NaN           NaN   \n",
              "freq           NaN          24           NaN           NaN           NaN   \n",
              "mean     8690.0000         NaN      2.501640      0.502561      6.537775   \n",
              "std      5017.0295         NaN      1.106918      0.500008      3.438776   \n",
              "min         1.0000         NaN      1.000000      0.000000      1.000000   \n",
              "25%      4345.5000         NaN      2.000000      0.000000      4.000000   \n",
              "50%      8690.0000         NaN      3.000000      1.000000      7.000000   \n",
              "75%     13034.5000         NaN      3.000000      1.000000     10.000000   \n",
              "max     17379.0000         NaN      4.000000      1.000000     12.000000   \n",
              "\n",
              "                  hr       holiday       weekday    workingday    weathersit  \\\n",
              "count   17379.000000  17379.000000  17379.000000  17379.000000  17379.000000   \n",
              "unique           NaN           NaN           NaN           NaN           NaN   \n",
              "top              NaN           NaN           NaN           NaN           NaN   \n",
              "freq             NaN           NaN           NaN           NaN           NaN   \n",
              "mean       11.546752      0.028770      3.003683      0.682721      1.425283   \n",
              "std         6.914405      0.167165      2.005771      0.465431      0.639357   \n",
              "min         0.000000      0.000000      0.000000      0.000000      1.000000   \n",
              "25%         6.000000      0.000000      1.000000      0.000000      1.000000   \n",
              "50%        12.000000      0.000000      3.000000      1.000000      1.000000   \n",
              "75%        18.000000      0.000000      5.000000      1.000000      2.000000   \n",
              "max        23.000000      1.000000      6.000000      1.000000      4.000000   \n",
              "\n",
              "                temp         atemp           hum     windspeed        casual  \\\n",
              "count   17379.000000  17379.000000  17379.000000  17379.000000  17379.000000   \n",
              "unique           NaN           NaN           NaN           NaN           NaN   \n",
              "top              NaN           NaN           NaN           NaN           NaN   \n",
              "freq             NaN           NaN           NaN           NaN           NaN   \n",
              "mean        0.486722      0.475775      0.627229      0.223460      0.097210   \n",
              "std         0.196486      0.171850      0.192930      0.143811      0.134346   \n",
              "min         0.000000      0.000000      0.000000      0.000000      0.000000   \n",
              "25%         0.326531      0.333300      0.480000      0.122840      0.010899   \n",
              "50%         0.489796      0.484800      0.630000      0.228047      0.046322   \n",
              "75%         0.653061      0.621200      0.780000      0.298225      0.130790   \n",
              "max         1.000000      1.000000      1.000000      1.000000      1.000000   \n",
              "\n",
              "          registered           cnt  \n",
              "count   17379.000000  17379.000000  \n",
              "unique           NaN           NaN  \n",
              "top              NaN           NaN  \n",
              "freq             NaN           NaN  \n",
              "mean        0.173574      0.193097  \n",
              "std         0.170832      0.185848  \n",
              "min         0.000000      0.000000  \n",
              "25%         0.038375      0.039959  \n",
              "50%         0.129797      0.144467  \n",
              "75%         0.248307      0.286885  \n",
              "max         1.000000      1.000000  "
            ]
          },
          "execution_count": 43,
          "metadata": {},
          "output_type": "execute_result"
        }
      ],
      "source": [
        "data.describe(include='all')"
      ]
    },
    {
      "cell_type": "code",
      "execution_count": 44,
      "metadata": {},
      "outputs": [
        {
          "data": {
            "text/html": [
              "<div>\n",
              "<style scoped>\n",
              "    .dataframe tbody tr th:only-of-type {\n",
              "        vertical-align: middle;\n",
              "    }\n",
              "\n",
              "    .dataframe tbody tr th {\n",
              "        vertical-align: top;\n",
              "    }\n",
              "\n",
              "    .dataframe thead th {\n",
              "        text-align: right;\n",
              "    }\n",
              "</style>\n",
              "<table border=\"1\" class=\"dataframe\">\n",
              "  <thead>\n",
              "    <tr style=\"text-align: right;\">\n",
              "      <th></th>\n",
              "      <th>instant</th>\n",
              "      <th>season</th>\n",
              "      <th>yr</th>\n",
              "      <th>mnth</th>\n",
              "      <th>hr</th>\n",
              "      <th>holiday</th>\n",
              "      <th>weekday</th>\n",
              "      <th>workingday</th>\n",
              "      <th>weathersit</th>\n",
              "      <th>temp</th>\n",
              "      <th>atemp</th>\n",
              "      <th>hum</th>\n",
              "      <th>windspeed</th>\n",
              "      <th>casual</th>\n",
              "      <th>registered</th>\n",
              "      <th>cnt</th>\n",
              "    </tr>\n",
              "  </thead>\n",
              "  <tbody>\n",
              "    <tr>\n",
              "      <th>count</th>\n",
              "      <td>17379.0000</td>\n",
              "      <td>17379.000000</td>\n",
              "      <td>17379.000000</td>\n",
              "      <td>17379.000000</td>\n",
              "      <td>17379.000000</td>\n",
              "      <td>17379.000000</td>\n",
              "      <td>17379.000000</td>\n",
              "      <td>17379.000000</td>\n",
              "      <td>17379.000000</td>\n",
              "      <td>17379.000000</td>\n",
              "      <td>17379.000000</td>\n",
              "      <td>17379.000000</td>\n",
              "      <td>17379.000000</td>\n",
              "      <td>17379.000000</td>\n",
              "      <td>17379.000000</td>\n",
              "      <td>17379.000000</td>\n",
              "    </tr>\n",
              "    <tr>\n",
              "      <th>mean</th>\n",
              "      <td>8690.0000</td>\n",
              "      <td>2.501640</td>\n",
              "      <td>0.502561</td>\n",
              "      <td>6.537775</td>\n",
              "      <td>11.546752</td>\n",
              "      <td>0.028770</td>\n",
              "      <td>3.003683</td>\n",
              "      <td>0.682721</td>\n",
              "      <td>1.425283</td>\n",
              "      <td>0.486722</td>\n",
              "      <td>0.475775</td>\n",
              "      <td>0.627229</td>\n",
              "      <td>0.223460</td>\n",
              "      <td>0.097210</td>\n",
              "      <td>0.173574</td>\n",
              "      <td>0.193097</td>\n",
              "    </tr>\n",
              "    <tr>\n",
              "      <th>std</th>\n",
              "      <td>5017.0295</td>\n",
              "      <td>1.106918</td>\n",
              "      <td>0.500008</td>\n",
              "      <td>3.438776</td>\n",
              "      <td>6.914405</td>\n",
              "      <td>0.167165</td>\n",
              "      <td>2.005771</td>\n",
              "      <td>0.465431</td>\n",
              "      <td>0.639357</td>\n",
              "      <td>0.196486</td>\n",
              "      <td>0.171850</td>\n",
              "      <td>0.192930</td>\n",
              "      <td>0.143811</td>\n",
              "      <td>0.134346</td>\n",
              "      <td>0.170832</td>\n",
              "      <td>0.185848</td>\n",
              "    </tr>\n",
              "    <tr>\n",
              "      <th>min</th>\n",
              "      <td>1.0000</td>\n",
              "      <td>1.000000</td>\n",
              "      <td>0.000000</td>\n",
              "      <td>1.000000</td>\n",
              "      <td>0.000000</td>\n",
              "      <td>0.000000</td>\n",
              "      <td>0.000000</td>\n",
              "      <td>0.000000</td>\n",
              "      <td>1.000000</td>\n",
              "      <td>0.000000</td>\n",
              "      <td>0.000000</td>\n",
              "      <td>0.000000</td>\n",
              "      <td>0.000000</td>\n",
              "      <td>0.000000</td>\n",
              "      <td>0.000000</td>\n",
              "      <td>0.000000</td>\n",
              "    </tr>\n",
              "    <tr>\n",
              "      <th>25%</th>\n",
              "      <td>4345.5000</td>\n",
              "      <td>2.000000</td>\n",
              "      <td>0.000000</td>\n",
              "      <td>4.000000</td>\n",
              "      <td>6.000000</td>\n",
              "      <td>0.000000</td>\n",
              "      <td>1.000000</td>\n",
              "      <td>0.000000</td>\n",
              "      <td>1.000000</td>\n",
              "      <td>0.326531</td>\n",
              "      <td>0.333300</td>\n",
              "      <td>0.480000</td>\n",
              "      <td>0.122840</td>\n",
              "      <td>0.010899</td>\n",
              "      <td>0.038375</td>\n",
              "      <td>0.039959</td>\n",
              "    </tr>\n",
              "    <tr>\n",
              "      <th>50%</th>\n",
              "      <td>8690.0000</td>\n",
              "      <td>3.000000</td>\n",
              "      <td>1.000000</td>\n",
              "      <td>7.000000</td>\n",
              "      <td>12.000000</td>\n",
              "      <td>0.000000</td>\n",
              "      <td>3.000000</td>\n",
              "      <td>1.000000</td>\n",
              "      <td>1.000000</td>\n",
              "      <td>0.489796</td>\n",
              "      <td>0.484800</td>\n",
              "      <td>0.630000</td>\n",
              "      <td>0.228047</td>\n",
              "      <td>0.046322</td>\n",
              "      <td>0.129797</td>\n",
              "      <td>0.144467</td>\n",
              "    </tr>\n",
              "    <tr>\n",
              "      <th>75%</th>\n",
              "      <td>13034.5000</td>\n",
              "      <td>3.000000</td>\n",
              "      <td>1.000000</td>\n",
              "      <td>10.000000</td>\n",
              "      <td>18.000000</td>\n",
              "      <td>0.000000</td>\n",
              "      <td>5.000000</td>\n",
              "      <td>1.000000</td>\n",
              "      <td>2.000000</td>\n",
              "      <td>0.653061</td>\n",
              "      <td>0.621200</td>\n",
              "      <td>0.780000</td>\n",
              "      <td>0.298225</td>\n",
              "      <td>0.130790</td>\n",
              "      <td>0.248307</td>\n",
              "      <td>0.286885</td>\n",
              "    </tr>\n",
              "    <tr>\n",
              "      <th>max</th>\n",
              "      <td>17379.0000</td>\n",
              "      <td>4.000000</td>\n",
              "      <td>1.000000</td>\n",
              "      <td>12.000000</td>\n",
              "      <td>23.000000</td>\n",
              "      <td>1.000000</td>\n",
              "      <td>6.000000</td>\n",
              "      <td>1.000000</td>\n",
              "      <td>4.000000</td>\n",
              "      <td>1.000000</td>\n",
              "      <td>1.000000</td>\n",
              "      <td>1.000000</td>\n",
              "      <td>1.000000</td>\n",
              "      <td>1.000000</td>\n",
              "      <td>1.000000</td>\n",
              "      <td>1.000000</td>\n",
              "    </tr>\n",
              "  </tbody>\n",
              "</table>\n",
              "</div>"
            ],
            "text/plain": [
              "          instant        season            yr          mnth            hr  \\\n",
              "count  17379.0000  17379.000000  17379.000000  17379.000000  17379.000000   \n",
              "mean    8690.0000      2.501640      0.502561      6.537775     11.546752   \n",
              "std     5017.0295      1.106918      0.500008      3.438776      6.914405   \n",
              "min        1.0000      1.000000      0.000000      1.000000      0.000000   \n",
              "25%     4345.5000      2.000000      0.000000      4.000000      6.000000   \n",
              "50%     8690.0000      3.000000      1.000000      7.000000     12.000000   \n",
              "75%    13034.5000      3.000000      1.000000     10.000000     18.000000   \n",
              "max    17379.0000      4.000000      1.000000     12.000000     23.000000   \n",
              "\n",
              "            holiday       weekday    workingday    weathersit          temp  \\\n",
              "count  17379.000000  17379.000000  17379.000000  17379.000000  17379.000000   \n",
              "mean       0.028770      3.003683      0.682721      1.425283      0.486722   \n",
              "std        0.167165      2.005771      0.465431      0.639357      0.196486   \n",
              "min        0.000000      0.000000      0.000000      1.000000      0.000000   \n",
              "25%        0.000000      1.000000      0.000000      1.000000      0.326531   \n",
              "50%        0.000000      3.000000      1.000000      1.000000      0.489796   \n",
              "75%        0.000000      5.000000      1.000000      2.000000      0.653061   \n",
              "max        1.000000      6.000000      1.000000      4.000000      1.000000   \n",
              "\n",
              "              atemp           hum     windspeed        casual    registered  \\\n",
              "count  17379.000000  17379.000000  17379.000000  17379.000000  17379.000000   \n",
              "mean       0.475775      0.627229      0.223460      0.097210      0.173574   \n",
              "std        0.171850      0.192930      0.143811      0.134346      0.170832   \n",
              "min        0.000000      0.000000      0.000000      0.000000      0.000000   \n",
              "25%        0.333300      0.480000      0.122840      0.010899      0.038375   \n",
              "50%        0.484800      0.630000      0.228047      0.046322      0.129797   \n",
              "75%        0.621200      0.780000      0.298225      0.130790      0.248307   \n",
              "max        1.000000      1.000000      1.000000      1.000000      1.000000   \n",
              "\n",
              "                cnt  \n",
              "count  17379.000000  \n",
              "mean       0.193097  \n",
              "std        0.185848  \n",
              "min        0.000000  \n",
              "25%        0.039959  \n",
              "50%        0.144467  \n",
              "75%        0.286885  \n",
              "max        1.000000  "
            ]
          },
          "execution_count": 44,
          "metadata": {},
          "output_type": "execute_result"
        }
      ],
      "source": [
        "data.describe()"
      ]
    },
    {
      "cell_type": "markdown",
      "metadata": {
        "id": "th_Lzl2Fkj9O"
      },
      "source": [
        "**Insight:**\n",
        "- rata-rata setiap hari perentalan sepeda itu sebanya 189 sepeda dirental, dengan sebaran data itu 181 sepeda\n",
        "- minimal 1 sepedan dan maximal 977 sepeda yang merupakan outlier \n",
        "- mean itu 189 sementara median itu 142 yang menunjukkan data itu skewed right\n",
        "- terlihat juga bahwa lebih banyak yang menyewa lewat registered dibanding casual "
      ]
    },
    {
      "cell_type": "markdown",
      "metadata": {
        "id": "zsyZjqak8DC2"
      },
      "source": [
        "## Visualization & Explanatory Analysis"
      ]
    },
    {
      "cell_type": "code",
      "execution_count": 45,
      "metadata": {},
      "outputs": [
        {
          "data": {
            "image/png": "[encoded data removed]",
            "text/plain": [
              "<Figure size 1800x800 with 1 Axes>"
            ]
          },
          "metadata": {},
          "output_type": "display_data"
        }
      ],
      "source": [
        "# Set ukuran figure sebelum memplot\n",
        "plt.figure(figsize=(18, 8))\n",
        "\n",
        "# Plot data\n",
        "plt.plot(data['instant'], data['cnt'], color='b')\n",
        "\n",
        "# Memberi judul dan label\n",
        "plt.title(\"Line Chart Jumlah 'cnt' berdasarkan 'instant'\")\n",
        "plt.xlabel(\"Instant\")\n",
        "plt.ylabel(\"Count (cnt)\")\n",
        "\n",
        "# Menampilkan plot\n",
        "plt.show()\n"
      ]
    },
    {
      "cell_type": "markdown",
      "metadata": {
        "id": "HZxOiQ6n8DC2"
      },
      "source": [
        "### Pertanyaan 1: pada musim apa banyak dan sedikit orang merental sepeda?"
      ]
    },
    {
      "cell_type": "code",
      "execution_count": 47,
      "metadata": {},
      "outputs": [
        {
          "data": {
            "image/png": "[encoded data removed]",
            "text/plain": [
              "<Figure size 1000x800 with 1 Axes>"
            ]
          },
          "metadata": {},
          "output_type": "display_data"
        }
      ],
      "source": [
        "\n",
        "# **Mengelompokkan data berdasarkan musim dan tahun**\n",
        "season_rentals = data.groupby(['season', 'yr'])['cnt'].sum().unstack()\n",
        "\n",
        "# Sumbu X (jumlah musim)\n",
        "x = np.arange(len(season_rentals.index))\n",
        "width = 0.4  # Lebar batang\n",
        "\n",
        "# Membuat figure dan axis\n",
        "fig, ax = plt.subplots(figsize=(10, 8))\n",
        "\n",
        "# Membuat barchart dengan 2 batang untuk setiap musim (2011 & 2012)\n",
        "rects1 = ax.bar(x - width/2, season_rentals[0], width, label=\"2011\", color='royalblue')\n",
        "rects2 = ax.bar(x + width/2, season_rentals[1], width, label=\"2012\", color='orange')\n",
        "\n",
        "# Menampilkan angka di atas batang\n",
        "ax.bar_label(rects1, padding=5, fmt='%d', color='black', fontweight='bold')\n",
        "ax.bar_label(rects2, padding=5, fmt='%d', color='black', fontweight='bold')\n",
        "\n",
        "# **Menambahkan label musim pada sumbu X**\n",
        "ax.set_xticks(x)\n",
        "ax.set_xticklabels(['Spring', 'Summer', 'Fall', 'Winter'], fontsize=12)\n",
        "\n",
        "# Menyesuaikan skala sumbu Y\n",
        "ax.set_ylim(0, 800)\n",
        "\n",
        "# Menambahkan judul dan label sumbu\n",
        "plt.title('Jumlah Rental Sepeda Berdasarkan Musim dan Tahun', fontsize=14)\n",
        "plt.xlabel('Musim', fontsize=12)\n",
        "plt.ylabel('Total Rental Sepeda', fontsize=12)\n",
        "plt.legend()  # Tambahkan keterangan untuk tahun\n",
        "\n",
        "# Menampilkan grafik\n",
        "plt.show()"
      ]
    },
    {
      "cell_type": "markdown",
      "metadata": {},
      "source": [
        "**insight**\n",
        "berdasarkan data pengelompokan ini bisa terlihat bahwa jumlah rentalan terbanyak itu ada pada musim fallm dan dan 2 tahun terakhir didata ini mengalami peningkatan dan permintaan terendah ada pada musim spring namun kenaikan pada tahun berikutnya mengalami kenaikan lebih dari 2x lipat pada musim tersebut"
      ]
    },
    {
      "cell_type": "markdown",
      "metadata": {
        "id": "DgHI7CiU8DC2"
      },
      "source": [
        "### Pertanyaan 2: - pada cuaca apa banyak dan sedikit orang merental sepeda?\n"
      ]
    },
    {
      "cell_type": "code",
      "execution_count": null,
      "metadata": {
        "id": "Go0lCsvO8DC2"
      },
      "outputs": [
        {
          "data": {
            "image/png": "[encoded data removed]",
            "text/plain": [
              "<Figure size 1000x800 with 1 Axes>"
            ]
          },
          "metadata": {},
          "output_type": "display_data"
        }
      ],
      "source": [
        "weathershit_rentals = data.groupby(['weathersit','yr'])['cnt'].sum().unstack()\n",
        "\n",
        "x = np.arange(len(weathershit_rentals.index))\n",
        "width = 0.4\n",
        "\n",
        "# Membuat figure dan axis\n",
        "fig, ax = plt.subplots(figsize=(10, 8))\n",
        "\n",
        "# Membuat barchart dengan 2 batang untuk setiap musim (2011 & 2012)\n",
        "rects1 = ax.bar(x - width/2, weathershit_rentals[0], width, label=\"2011\", color='royalblue')\n",
        "rects2 = ax.bar(x + width/2, weathershit_rentals[1], width, label=\"2012\", color='orange')\n",
        "\n",
        "# Menampilkan angka di atas batang\n",
        "ax.bar_label(rects1, padding=5, fmt='%d', color='black', fontweight='bold')\n",
        "ax.bar_label(rects2, padding=5, fmt='%d', color='black', fontweight='bold')\n",
        "\n",
        "# **Menambahkan label musim pada sumbu X**\n",
        "ax.set_xticks(x)\n",
        "ax.set_xticklabels(['Clear', 'Mist', 'Light Snow', 'Heavy Rain'], fontsize=12)\n",
        "\n",
        "# Menyesuaikan skala sumbu Y\n",
        "ax.set_ylim(0, 2000)\n",
        "\n",
        "# Menambahkan judul dan label sumbu\n",
        "plt.title('Jumlah Rental Sepeda Berdasarkan Weathershit dan Tahun', fontsize=14)\n",
        "plt.xlabel('Musim', fontsize=12)\n",
        "plt.ylabel('Total Rental Sepeda', fontsize=12)\n",
        "plt.legend()  # Tambahkan keterangan untuk tahun\n",
        "\n",
        "# Menampilkan grafik\n",
        "plt.show()\n",
        "\n"
      ]
    },
    {
      "cell_type": "markdown",
      "metadata": {
        "id": "_0-36BDLklRg"
      },
      "source": [
        "**Insight:**\n",
        "- berdasarkan diagram ini disimpulkan bahwa rental sepeda terbanyak berada pada Clear dan yang tersedikit pada Heavy Rain"
      ]
    },
    {
      "cell_type": "markdown",
      "metadata": {
        "id": "9y4VUsmcYNZ5"
      },
      "source": [
        "## Analisis Lanjutan (Opsional)"
      ]
    },
    {
      "cell_type": "code",
      "execution_count": null,
      "metadata": {},
      "outputs": [],
      "source": []
    },
    {
      "cell_type": "markdown",
      "metadata": {
        "id": "_WeHlCeX8DC2"
      },
      "source": [
        "## Conclusion"
      ]
    },
    {
      "cell_type": "markdown",
      "metadata": {
        "id": "ZTcyR48Y8DC2"
      },
      "source": [
        "- Conclution pertanyaan 1\n",
        "- Conclution pertanyaan 2"
      ]
    }
  ],
  "metadata": {
    "colab": {
      "include_colab_link": true,
      "provenance": []
    },
    "kernelspec": {
      "display_name": ".venv",
      "language": "python",
      "name": "python3"
    },
    "language_info": {
      "codemirror_mode": {
        "name": "ipython",
        "version": 3
      },
      "file_extension": ".py",
      "mimetype": "text/x-python",
      "name": "python",
      "nbconvert_exporter": "python",
      "pygments_lexer": "ipython3",
      "version": "3.12.1"
    },
    "orig_nbformat": 4
  },
  "nbformat": 4,
  "nbformat_minor": 0
}
